{
  "cells": [
    {
      "cell_type": "markdown",
      "metadata": {
        "id": "xLl2lqTfFZyB"
      },
      "source": [
        "<a href=\"https://colab.research.google.com/drive/10pRfCywNHgxorxw7EJIsy0aid_9_Twes#scrollTo=xLl2lqTfFZyB\" target=\"_parent\"><img src=\"https://colab.research.google.com/assets/colab-badge.svg\" alt=\"Open In Colab\"/></a>"
      ]
    },
    {
      "cell_type": "markdown",
      "metadata": {
        "id": "3PhsoEJHnCP9"
      },
      "source": [
        "## **MRI classification on morphometry data**"
      ]
    },
    {
      "cell_type": "markdown",
      "metadata": {
        "id": "g4sxyCfzrPLC"
      },
      "source": [
        "#### 1. Introduction\n",
        "\n",
        "In this notebook we will do conventional morphometry analysis for gender-related morphometric sighns search.\n",
        "\n",
        "\n",
        "**Our goal will be to build a network for MEN and WOMEN brain classification, to explore gender influence on brain structure and find gender-specific biomarkers.**\n",
        "\n",
        "We will use the data from https://db.humanconnectome.org/data/projects/HCP_1200.\n",
        "\n",
        "*Proceeding with this Notebook you confirm your personal acess [to the data](https://www.humanconnectome.org/study/hcp-young-adult/document/1200-subjects-data-release).\n",
        " And your agreement on data [terms and conditions](https://www.humanconnectome.org/study/hcp-young-adult/data-use-terms).*\n"
      ]
    },
    {
      "cell_type": "markdown",
      "metadata": {
        "id": "zdud8rHPHPsN"
      },
      "source": [
        "#### 2. Mounting Google Drive to Collab Notebook. You should go with the link and enter your personal authorization code:"
      ]
    },
    {
      "cell_type": "code",
      "execution_count": null,
      "metadata": {
        "id": "Ol6ubhbcHReI",
        "colab": {
          "base_uri": "https://localhost:8080/"
        },
        "outputId": "caf1b4a9-bdf2-42ad-ebac-ab41fbf3209f"
      },
      "outputs": [
        {
          "output_type": "stream",
          "name": "stdout",
          "text": [
            "Mounted at /content/drive\n"
          ]
        }
      ],
      "source": [
        "from google.colab import drive\n",
        "drive.mount('/content/drive')"
      ]
    },
    {
      "cell_type": "markdown",
      "metadata": {
        "id": "8PUdtNipF6vD"
      },
      "source": [
        "**!!! Add a shortcut** with \"Add a shortcut\" with the `data` repository from here https://drive.google.com/drive/folders/1GCIXnK6ly5l_LADanpLmvtZ6YbqPUamQ?usp=sharing"
      ]
    },
    {
      "cell_type": "markdown",
      "metadata": {
        "id": "s1vKmrLEGXZP"
      },
      "source": [
        "After adding a shotcut change this data dir to yours own files location in Google drive and give a path to `seminars/anat` folder:"
      ]
    },
    {
      "cell_type": "code",
      "execution_count": null,
      "metadata": {
        "id": "0mhz9ipCnCP-"
      },
      "outputs": [],
      "source": [
        "data_dir = '/content/drive/MyDrive/anat/'"
      ]
    },
    {
      "cell_type": "code",
      "source": [
        "!cd /content/drive && ls"
      ],
      "metadata": {
        "colab": {
          "base_uri": "https://localhost:8080/"
        },
        "id": "_dqSpytF58tp",
        "outputId": "9933462d-b13a-4950-a2d5-f715956e589d"
      },
      "execution_count": null,
      "outputs": [
        {
          "output_type": "stream",
          "name": "stdout",
          "text": [
            "MyDrive\n"
          ]
        }
      ]
    },
    {
      "cell_type": "markdown",
      "metadata": {
        "id": "njVakGSjnCQB"
      },
      "source": [
        "### Importing the data\n",
        "\n",
        "Importing `unrestricted_freesurfer.csv` dataset from https://db.humanconnectome.org/data/projects/HCP_1200."
      ]
    },
    {
      "cell_type": "code",
      "execution_count": null,
      "metadata": {
        "id": "c1VbQHFjnCQC"
      },
      "outputs": [],
      "source": [
        "import pandas as pd\n",
        "data = pd.read_csv(data_dir + 'unrestricted_hcp_freesurfer.csv')"
      ]
    },
    {
      "cell_type": "code",
      "execution_count": null,
      "metadata": {
        "id": "uts5jMnLIKzu",
        "colab": {
          "base_uri": "https://localhost:8080/",
          "height": 256
        },
        "outputId": "928d0965-6a3c-45a1-d3f2-040fd10287f3"
      },
      "outputs": [
        {
          "output_type": "execute_result",
          "data": {
            "text/plain": [
              "   Subject Gender Release  FS_InterCranial_Vol  FS_BrainSeg_Vol  \\\n",
              "0   100206      M    S900         1.864518e+06        1406924.0   \n",
              "1   100307      F      Q1         1.512540e+06        1109710.0   \n",
              "2   100408      M      Q3         1.684117e+06        1280171.0   \n",
              "3   100610      M    S900         1.816044e+06        1321362.0   \n",
              "4   101006      F    S500         1.437868e+06        1053766.0   \n",
              "\n",
              "   FS_BrainSeg_Vol_No_Vent  FS_BrainSeg_Vol_No_Vent_Surf  FS_LCort_GM_Vol  \\\n",
              "0                1389007.0                  1.386836e+06           304488   \n",
              "1                1098854.0                  1.097122e+06           240030   \n",
              "2                1260943.0                  1.259250e+06           260695   \n",
              "3                1306929.0                  1.304569e+06           276506   \n",
              "4                1038408.0                  1.037793e+06           203718   \n",
              "\n",
              "   FS_RCort_GM_Vol  FS_TotCort_GM_Vol  ...  \\\n",
              "0           305634             610122  ...   \n",
              "1           243207             483238  ...   \n",
              "2           265243             525938  ...   \n",
              "3           278002             554508  ...   \n",
              "4           210539             414257  ...   \n",
              "\n",
              "   FS_R_Rostralanteriorcingulate_CurvInd  FS_R_Rostralmiddlefrontal_CurvInd  \\\n",
              "0                                    5.6                               34.6   \n",
              "1                                    3.3                               29.9   \n",
              "2                                    3.3                               25.2   \n",
              "3                                    3.0                               19.6   \n",
              "4                                    2.9                               14.7   \n",
              "\n",
              "   FS_R_Superiorfrontal_CurvInd  FS_R_Superiorparietal_CurvInd  \\\n",
              "0                          40.1                           23.3   \n",
              "1                          48.8                           21.6   \n",
              "2                          27.5                           15.2   \n",
              "3                          20.0                           18.6   \n",
              "4                          21.3                           13.2   \n",
              "\n",
              "   FS_R_Superiortemporal_CurvInd  FS_R_Supramarginal_CurvInd  \\\n",
              "0                           15.6                        11.9   \n",
              "1                           18.6                        15.0   \n",
              "2                           13.9                        12.3   \n",
              "3                           10.6                        10.8   \n",
              "4                            8.7                         9.8   \n",
              "\n",
              "   FS_R_Frontalpole_CurvInd  FS_R_Temporalpole_CurvInd  \\\n",
              "0                       2.9                        3.8   \n",
              "1                       2.9                        5.8   \n",
              "2                       1.8                        7.8   \n",
              "3                       1.2                        4.1   \n",
              "4                       1.1                        3.0   \n",
              "\n",
              "   FS_R_Transversetemporal_CurvInd  FS_R_Insula_CurvInd  \n",
              "0                              2.8                 37.5  \n",
              "1                              2.0                 30.2  \n",
              "2                              1.9                 25.1  \n",
              "3                              1.4                 16.6  \n",
              "4                              1.0                 18.9  \n",
              "\n",
              "[5 rows x 938 columns]"
            ],
            "text/html": [
              "\n",
              "  <div id=\"df-5032230d-aac8-4aca-842a-f56716ef7c68\" class=\"colab-df-container\">\n",
              "    <div>\n",
              "<style scoped>\n",
              "    .dataframe tbody tr th:only-of-type {\n",
              "        vertical-align: middle;\n",
              "    }\n",
              "\n",
              "    .dataframe tbody tr th {\n",
              "        vertical-align: top;\n",
              "    }\n",
              "\n",
              "    .dataframe thead th {\n",
              "        text-align: right;\n",
              "    }\n",
              "</style>\n",
              "<table border=\"1\" class=\"dataframe\">\n",
              "  <thead>\n",
              "    <tr style=\"text-align: right;\">\n",
              "      <th></th>\n",
              "      <th>Subject</th>\n",
              "      <th>Gender</th>\n",
              "      <th>Release</th>\n",
              "      <th>FS_InterCranial_Vol</th>\n",
              "      <th>FS_BrainSeg_Vol</th>\n",
              "      <th>FS_BrainSeg_Vol_No_Vent</th>\n",
              "      <th>FS_BrainSeg_Vol_No_Vent_Surf</th>\n",
              "      <th>FS_LCort_GM_Vol</th>\n",
              "      <th>FS_RCort_GM_Vol</th>\n",
              "      <th>FS_TotCort_GM_Vol</th>\n",
              "      <th>...</th>\n",
              "      <th>FS_R_Rostralanteriorcingulate_CurvInd</th>\n",
              "      <th>FS_R_Rostralmiddlefrontal_CurvInd</th>\n",
              "      <th>FS_R_Superiorfrontal_CurvInd</th>\n",
              "      <th>FS_R_Superiorparietal_CurvInd</th>\n",
              "      <th>FS_R_Superiortemporal_CurvInd</th>\n",
              "      <th>FS_R_Supramarginal_CurvInd</th>\n",
              "      <th>FS_R_Frontalpole_CurvInd</th>\n",
              "      <th>FS_R_Temporalpole_CurvInd</th>\n",
              "      <th>FS_R_Transversetemporal_CurvInd</th>\n",
              "      <th>FS_R_Insula_CurvInd</th>\n",
              "    </tr>\n",
              "  </thead>\n",
              "  <tbody>\n",
              "    <tr>\n",
              "      <th>0</th>\n",
              "      <td>100206</td>\n",
              "      <td>M</td>\n",
              "      <td>S900</td>\n",
              "      <td>1.864518e+06</td>\n",
              "      <td>1406924.0</td>\n",
              "      <td>1389007.0</td>\n",
              "      <td>1.386836e+06</td>\n",
              "      <td>304488</td>\n",
              "      <td>305634</td>\n",
              "      <td>610122</td>\n",
              "      <td>...</td>\n",
              "      <td>5.6</td>\n",
              "      <td>34.6</td>\n",
              "      <td>40.1</td>\n",
              "      <td>23.3</td>\n",
              "      <td>15.6</td>\n",
              "      <td>11.9</td>\n",
              "      <td>2.9</td>\n",
              "      <td>3.8</td>\n",
              "      <td>2.8</td>\n",
              "      <td>37.5</td>\n",
              "    </tr>\n",
              "    <tr>\n",
              "      <th>1</th>\n",
              "      <td>100307</td>\n",
              "      <td>F</td>\n",
              "      <td>Q1</td>\n",
              "      <td>1.512540e+06</td>\n",
              "      <td>1109710.0</td>\n",
              "      <td>1098854.0</td>\n",
              "      <td>1.097122e+06</td>\n",
              "      <td>240030</td>\n",
              "      <td>243207</td>\n",
              "      <td>483238</td>\n",
              "      <td>...</td>\n",
              "      <td>3.3</td>\n",
              "      <td>29.9</td>\n",
              "      <td>48.8</td>\n",
              "      <td>21.6</td>\n",
              "      <td>18.6</td>\n",
              "      <td>15.0</td>\n",
              "      <td>2.9</td>\n",
              "      <td>5.8</td>\n",
              "      <td>2.0</td>\n",
              "      <td>30.2</td>\n",
              "    </tr>\n",
              "    <tr>\n",
              "      <th>2</th>\n",
              "      <td>100408</td>\n",
              "      <td>M</td>\n",
              "      <td>Q3</td>\n",
              "      <td>1.684117e+06</td>\n",
              "      <td>1280171.0</td>\n",
              "      <td>1260943.0</td>\n",
              "      <td>1.259250e+06</td>\n",
              "      <td>260695</td>\n",
              "      <td>265243</td>\n",
              "      <td>525938</td>\n",
              "      <td>...</td>\n",
              "      <td>3.3</td>\n",
              "      <td>25.2</td>\n",
              "      <td>27.5</td>\n",
              "      <td>15.2</td>\n",
              "      <td>13.9</td>\n",
              "      <td>12.3</td>\n",
              "      <td>1.8</td>\n",
              "      <td>7.8</td>\n",
              "      <td>1.9</td>\n",
              "      <td>25.1</td>\n",
              "    </tr>\n",
              "    <tr>\n",
              "      <th>3</th>\n",
              "      <td>100610</td>\n",
              "      <td>M</td>\n",
              "      <td>S900</td>\n",
              "      <td>1.816044e+06</td>\n",
              "      <td>1321362.0</td>\n",
              "      <td>1306929.0</td>\n",
              "      <td>1.304569e+06</td>\n",
              "      <td>276506</td>\n",
              "      <td>278002</td>\n",
              "      <td>554508</td>\n",
              "      <td>...</td>\n",
              "      <td>3.0</td>\n",
              "      <td>19.6</td>\n",
              "      <td>20.0</td>\n",
              "      <td>18.6</td>\n",
              "      <td>10.6</td>\n",
              "      <td>10.8</td>\n",
              "      <td>1.2</td>\n",
              "      <td>4.1</td>\n",
              "      <td>1.4</td>\n",
              "      <td>16.6</td>\n",
              "    </tr>\n",
              "    <tr>\n",
              "      <th>4</th>\n",
              "      <td>101006</td>\n",
              "      <td>F</td>\n",
              "      <td>S500</td>\n",
              "      <td>1.437868e+06</td>\n",
              "      <td>1053766.0</td>\n",
              "      <td>1038408.0</td>\n",
              "      <td>1.037793e+06</td>\n",
              "      <td>203718</td>\n",
              "      <td>210539</td>\n",
              "      <td>414257</td>\n",
              "      <td>...</td>\n",
              "      <td>2.9</td>\n",
              "      <td>14.7</td>\n",
              "      <td>21.3</td>\n",
              "      <td>13.2</td>\n",
              "      <td>8.7</td>\n",
              "      <td>9.8</td>\n",
              "      <td>1.1</td>\n",
              "      <td>3.0</td>\n",
              "      <td>1.0</td>\n",
              "      <td>18.9</td>\n",
              "    </tr>\n",
              "  </tbody>\n",
              "</table>\n",
              "<p>5 rows × 938 columns</p>\n",
              "</div>\n",
              "    <div class=\"colab-df-buttons\">\n",
              "\n",
              "  <div class=\"colab-df-container\">\n",
              "    <button class=\"colab-df-convert\" onclick=\"convertToInteractive('df-5032230d-aac8-4aca-842a-f56716ef7c68')\"\n",
              "            title=\"Convert this dataframe to an interactive table.\"\n",
              "            style=\"display:none;\">\n",
              "\n",
              "  <svg xmlns=\"http://www.w3.org/2000/svg\" height=\"24px\" viewBox=\"0 -960 960 960\">\n",
              "    <path d=\"M120-120v-720h720v720H120Zm60-500h600v-160H180v160Zm220 220h160v-160H400v160Zm0 220h160v-160H400v160ZM180-400h160v-160H180v160Zm440 0h160v-160H620v160ZM180-180h160v-160H180v160Zm440 0h160v-160H620v160Z\"/>\n",
              "  </svg>\n",
              "    </button>\n",
              "\n",
              "  <style>\n",
              "    .colab-df-container {\n",
              "      display:flex;\n",
              "      gap: 12px;\n",
              "    }\n",
              "\n",
              "    .colab-df-convert {\n",
              "      background-color: #E8F0FE;\n",
              "      border: none;\n",
              "      border-radius: 50%;\n",
              "      cursor: pointer;\n",
              "      display: none;\n",
              "      fill: #1967D2;\n",
              "      height: 32px;\n",
              "      padding: 0 0 0 0;\n",
              "      width: 32px;\n",
              "    }\n",
              "\n",
              "    .colab-df-convert:hover {\n",
              "      background-color: #E2EBFA;\n",
              "      box-shadow: 0px 1px 2px rgba(60, 64, 67, 0.3), 0px 1px 3px 1px rgba(60, 64, 67, 0.15);\n",
              "      fill: #174EA6;\n",
              "    }\n",
              "\n",
              "    .colab-df-buttons div {\n",
              "      margin-bottom: 4px;\n",
              "    }\n",
              "\n",
              "    [theme=dark] .colab-df-convert {\n",
              "      background-color: #3B4455;\n",
              "      fill: #D2E3FC;\n",
              "    }\n",
              "\n",
              "    [theme=dark] .colab-df-convert:hover {\n",
              "      background-color: #434B5C;\n",
              "      box-shadow: 0px 1px 3px 1px rgba(0, 0, 0, 0.15);\n",
              "      filter: drop-shadow(0px 1px 2px rgba(0, 0, 0, 0.3));\n",
              "      fill: #FFFFFF;\n",
              "    }\n",
              "  </style>\n",
              "\n",
              "    <script>\n",
              "      const buttonEl =\n",
              "        document.querySelector('#df-5032230d-aac8-4aca-842a-f56716ef7c68 button.colab-df-convert');\n",
              "      buttonEl.style.display =\n",
              "        google.colab.kernel.accessAllowed ? 'block' : 'none';\n",
              "\n",
              "      async function convertToInteractive(key) {\n",
              "        const element = document.querySelector('#df-5032230d-aac8-4aca-842a-f56716ef7c68');\n",
              "        const dataTable =\n",
              "          await google.colab.kernel.invokeFunction('convertToInteractive',\n",
              "                                                    [key], {});\n",
              "        if (!dataTable) return;\n",
              "\n",
              "        const docLinkHtml = 'Like what you see? Visit the ' +\n",
              "          '<a target=\"_blank\" href=https://colab.research.google.com/notebooks/data_table.ipynb>data table notebook</a>'\n",
              "          + ' to learn more about interactive tables.';\n",
              "        element.innerHTML = '';\n",
              "        dataTable['output_type'] = 'display_data';\n",
              "        await google.colab.output.renderOutput(dataTable, element);\n",
              "        const docLink = document.createElement('div');\n",
              "        docLink.innerHTML = docLinkHtml;\n",
              "        element.appendChild(docLink);\n",
              "      }\n",
              "    </script>\n",
              "  </div>\n",
              "\n",
              "\n",
              "<div id=\"df-1c5d263c-1065-4495-b542-0c389e3a05f9\">\n",
              "  <button class=\"colab-df-quickchart\" onclick=\"quickchart('df-1c5d263c-1065-4495-b542-0c389e3a05f9')\"\n",
              "            title=\"Suggest charts.\"\n",
              "            style=\"display:none;\">\n",
              "\n",
              "<svg xmlns=\"http://www.w3.org/2000/svg\" height=\"24px\"viewBox=\"0 0 24 24\"\n",
              "     width=\"24px\">\n",
              "    <g>\n",
              "        <path d=\"M19 3H5c-1.1 0-2 .9-2 2v14c0 1.1.9 2 2 2h14c1.1 0 2-.9 2-2V5c0-1.1-.9-2-2-2zM9 17H7v-7h2v7zm4 0h-2V7h2v10zm4 0h-2v-4h2v4z\"/>\n",
              "    </g>\n",
              "</svg>\n",
              "  </button>\n",
              "\n",
              "<style>\n",
              "  .colab-df-quickchart {\n",
              "      --bg-color: #E8F0FE;\n",
              "      --fill-color: #1967D2;\n",
              "      --hover-bg-color: #E2EBFA;\n",
              "      --hover-fill-color: #174EA6;\n",
              "      --disabled-fill-color: #AAA;\n",
              "      --disabled-bg-color: #DDD;\n",
              "  }\n",
              "\n",
              "  [theme=dark] .colab-df-quickchart {\n",
              "      --bg-color: #3B4455;\n",
              "      --fill-color: #D2E3FC;\n",
              "      --hover-bg-color: #434B5C;\n",
              "      --hover-fill-color: #FFFFFF;\n",
              "      --disabled-bg-color: #3B4455;\n",
              "      --disabled-fill-color: #666;\n",
              "  }\n",
              "\n",
              "  .colab-df-quickchart {\n",
              "    background-color: var(--bg-color);\n",
              "    border: none;\n",
              "    border-radius: 50%;\n",
              "    cursor: pointer;\n",
              "    display: none;\n",
              "    fill: var(--fill-color);\n",
              "    height: 32px;\n",
              "    padding: 0;\n",
              "    width: 32px;\n",
              "  }\n",
              "\n",
              "  .colab-df-quickchart:hover {\n",
              "    background-color: var(--hover-bg-color);\n",
              "    box-shadow: 0 1px 2px rgba(60, 64, 67, 0.3), 0 1px 3px 1px rgba(60, 64, 67, 0.15);\n",
              "    fill: var(--button-hover-fill-color);\n",
              "  }\n",
              "\n",
              "  .colab-df-quickchart-complete:disabled,\n",
              "  .colab-df-quickchart-complete:disabled:hover {\n",
              "    background-color: var(--disabled-bg-color);\n",
              "    fill: var(--disabled-fill-color);\n",
              "    box-shadow: none;\n",
              "  }\n",
              "\n",
              "  .colab-df-spinner {\n",
              "    border: 2px solid var(--fill-color);\n",
              "    border-color: transparent;\n",
              "    border-bottom-color: var(--fill-color);\n",
              "    animation:\n",
              "      spin 1s steps(1) infinite;\n",
              "  }\n",
              "\n",
              "  @keyframes spin {\n",
              "    0% {\n",
              "      border-color: transparent;\n",
              "      border-bottom-color: var(--fill-color);\n",
              "      border-left-color: var(--fill-color);\n",
              "    }\n",
              "    20% {\n",
              "      border-color: transparent;\n",
              "      border-left-color: var(--fill-color);\n",
              "      border-top-color: var(--fill-color);\n",
              "    }\n",
              "    30% {\n",
              "      border-color: transparent;\n",
              "      border-left-color: var(--fill-color);\n",
              "      border-top-color: var(--fill-color);\n",
              "      border-right-color: var(--fill-color);\n",
              "    }\n",
              "    40% {\n",
              "      border-color: transparent;\n",
              "      border-right-color: var(--fill-color);\n",
              "      border-top-color: var(--fill-color);\n",
              "    }\n",
              "    60% {\n",
              "      border-color: transparent;\n",
              "      border-right-color: var(--fill-color);\n",
              "    }\n",
              "    80% {\n",
              "      border-color: transparent;\n",
              "      border-right-color: var(--fill-color);\n",
              "      border-bottom-color: var(--fill-color);\n",
              "    }\n",
              "    90% {\n",
              "      border-color: transparent;\n",
              "      border-bottom-color: var(--fill-color);\n",
              "    }\n",
              "  }\n",
              "</style>\n",
              "\n",
              "  <script>\n",
              "    async function quickchart(key) {\n",
              "      const quickchartButtonEl =\n",
              "        document.querySelector('#' + key + ' button');\n",
              "      quickchartButtonEl.disabled = true;  // To prevent multiple clicks.\n",
              "      quickchartButtonEl.classList.add('colab-df-spinner');\n",
              "      try {\n",
              "        const charts = await google.colab.kernel.invokeFunction(\n",
              "            'suggestCharts', [key], {});\n",
              "      } catch (error) {\n",
              "        console.error('Error during call to suggestCharts:', error);\n",
              "      }\n",
              "      quickchartButtonEl.classList.remove('colab-df-spinner');\n",
              "      quickchartButtonEl.classList.add('colab-df-quickchart-complete');\n",
              "    }\n",
              "    (() => {\n",
              "      let quickchartButtonEl =\n",
              "        document.querySelector('#df-1c5d263c-1065-4495-b542-0c389e3a05f9 button');\n",
              "      quickchartButtonEl.style.display =\n",
              "        google.colab.kernel.accessAllowed ? 'block' : 'none';\n",
              "    })();\n",
              "  </script>\n",
              "</div>\n",
              "    </div>\n",
              "  </div>\n"
            ]
          },
          "metadata": {},
          "execution_count": 5
        }
      ],
      "source": [
        "data.head()"
      ]
    },
    {
      "cell_type": "markdown",
      "metadata": {
        "id": "BmkATkcs5v2f"
      },
      "source": [
        "**How to get this morpometry data inhouse?**\n",
        "\n",
        "1. You should have T1 weighted MRI, or T1 with T2.\n",
        "2. Should have patients data in `BIDS` or converted in `*.nii`.\n",
        "3. Run `fsdocker` or standalon installed `freesurfer 6.0`.\n",
        "4. Wait 5-11 hours on 1 CPU per patient.\n",
        "5. Get freesurfer stats as output and convert them in table format.\n",
        "\n",
        "\n",
        "The tutorial and data for table creation as well as data visualisation can be found here:\n",
        "https://github.com/kondratevakate/your-brain-mri-visualization"
      ]
    },
    {
      "cell_type": "markdown",
      "metadata": {
        "id": "Qi34ZClwnCQE"
      },
      "source": [
        "### Defining the train and test data\n",
        "\n",
        "In is a set of brain morphometry measures of healthy young adults. On the data we have two classification plobles to solve:\n",
        "- men/women classification.\n",
        "- age above 30n classification.\n",
        "\n",
        "Choose your X (train_data) and y (train_targets) as `pandas.DataFrame()` or  `numpy.array()`:"
      ]
    },
    {
      "cell_type": "code",
      "execution_count": null,
      "metadata": {
        "collapsed": true,
        "id": "BExIpA9onCQF",
        "jupyter": {
          "outputs_hidden": true
        },
        "colab": {
          "base_uri": "https://localhost:8080/"
        },
        "outputId": "fae29dd6-8ed1-46b8-b6ef-c5390873cda5"
      },
      "outputs": [
        {
          "output_type": "execute_result",
          "data": {
            "text/plain": [
              "((1113, 935), (1113,))"
            ]
          },
          "metadata": {},
          "execution_count": 6
        }
      ],
      "source": [
        "X = data[data.columns[3:]]\n",
        "y = data[data.columns[1]]\n",
        "X.shape, y.shape"
      ]
    },
    {
      "cell_type": "code",
      "execution_count": null,
      "metadata": {
        "id": "IzDnPjoaIji3",
        "colab": {
          "base_uri": "https://localhost:8080/"
        },
        "outputId": "3a29ab73-82b7-48f2-f4ed-33920a837e1f"
      },
      "outputs": [
        {
          "output_type": "execute_result",
          "data": {
            "text/plain": [
              "F    606\n",
              "M    507\n",
              "Name: Gender, dtype: int64"
            ]
          },
          "metadata": {},
          "execution_count": 7
        }
      ],
      "source": [
        "y.value_counts()"
      ]
    },
    {
      "cell_type": "markdown",
      "metadata": {
        "id": "Lghd2jU0JL2D"
      },
      "source": [
        "Let's change `str` values to binary classes. The easy but BAD way is:"
      ]
    },
    {
      "cell_type": "code",
      "execution_count": null,
      "metadata": {
        "id": "11AVw7QKJCVI",
        "colab": {
          "base_uri": "https://localhost:8080/"
        },
        "outputId": "64701eb1-e1bb-41bc-bf44-a213cce2ec79"
      },
      "outputs": [
        {
          "output_type": "stream",
          "name": "stderr",
          "text": [
            "<ipython-input-8-85e2ccdd8f7f>:1: SettingWithCopyWarning: \n",
            "A value is trying to be set on a copy of a slice from a DataFrame\n",
            "\n",
            "See the caveats in the documentation: https://pandas.pydata.org/pandas-docs/stable/user_guide/indexing.html#returning-a-view-versus-a-copy\n",
            "  y[y == 'F'] = 1\n",
            "<ipython-input-8-85e2ccdd8f7f>:2: SettingWithCopyWarning: \n",
            "A value is trying to be set on a copy of a slice from a DataFrame\n",
            "\n",
            "See the caveats in the documentation: https://pandas.pydata.org/pandas-docs/stable/user_guide/indexing.html#returning-a-view-versus-a-copy\n",
            "  y[y == 'M'] = 0\n"
          ]
        },
        {
          "output_type": "execute_result",
          "data": {
            "text/plain": [
              "1    606\n",
              "0    507\n",
              "Name: Gender, dtype: int64"
            ]
          },
          "metadata": {},
          "execution_count": 8
        }
      ],
      "source": [
        "y[y == 'F'] = 1\n",
        "y[y == 'M'] = 0\n",
        "y = y.astype(int)\n",
        "y.value_counts()"
      ]
    },
    {
      "cell_type": "markdown",
      "metadata": {
        "id": "4K_tgOM_7SYM"
      },
      "source": [
        "### Let's do classical data analysis\n",
        "\n",
        "**Statistics**:\n",
        "1. Pick up a test for two grups comparison (gaussian/ parametric or not?)\n",
        "2. Is it paired test or not?\n",
        "3. Choose a p-value and address the multiple comparisons.\n"
      ]
    },
    {
      "cell_type": "markdown",
      "metadata": {
        "id": "A2x0qT2rDnCT"
      },
      "source": [
        "What about feature selection?\n",
        "\n",
        "https://scikit-learn.org/stable/modules/generated/sklearn.feature_selection.SelectKBest.html"
      ]
    },
    {
      "cell_type": "code",
      "execution_count": null,
      "metadata": {
        "id": "x2hMu_UBDqpd",
        "colab": {
          "base_uri": "https://localhost:8080/"
        },
        "outputId": "c8c605a6-86de-4047-8787-5d24468c2ef3"
      },
      "outputs": [
        {
          "output_type": "stream",
          "name": "stderr",
          "text": [
            "/usr/local/lib/python3.10/dist-packages/sklearn/feature_selection/_univariate_selection.py:112: UserWarning: Features [ 55  56  57  58  98  99 100 101 174 175 176 177 178 179 180 181 293 294\n",
            " 295 296 297 298 299 300 301 302 303 304] are constant.\n",
            "  warnings.warn(\"Features %s are constant.\" % constant_features_idx, UserWarning)\n",
            "/usr/local/lib/python3.10/dist-packages/sklearn/feature_selection/_univariate_selection.py:113: RuntimeWarning: invalid value encountered in divide\n",
            "  f = msb / msw\n"
          ]
        }
      ],
      "source": [
        "from sklearn.feature_selection import SelectKBest\n",
        "X_new = SelectKBest(k=10).fit_transform(X, y)"
      ]
    },
    {
      "cell_type": "code",
      "execution_count": null,
      "metadata": {
        "id": "XQXY0ClIG2uB",
        "colab": {
          "base_uri": "https://localhost:8080/"
        },
        "outputId": "fabe486c-928e-4d84-a014-8088af755ee0"
      },
      "outputs": [
        {
          "output_type": "stream",
          "name": "stderr",
          "text": [
            "/usr/local/lib/python3.10/dist-packages/sklearn/feature_selection/_univariate_selection.py:112: UserWarning: Features [ 55  56  57  58  98  99 100 101 174 175 176 177 178 179 180 181 293 294\n",
            " 295 296 297 298 299 300 301 302 303 304] are constant.\n",
            "  warnings.warn(\"Features %s are constant.\" % constant_features_idx, UserWarning)\n",
            "/usr/local/lib/python3.10/dist-packages/sklearn/feature_selection/_univariate_selection.py:113: RuntimeWarning: invalid value encountered in divide\n",
            "  f = msb / msw\n"
          ]
        },
        {
          "output_type": "execute_result",
          "data": {
            "text/plain": [
              "Index(['FS_InterCranial_Vol', 'FS_BrainSeg_Vol', 'FS_BrainSeg_Vol_No_Vent',\n",
              "       'FS_BrainSeg_Vol_No_Vent_Surf', 'FS_RCort_GM_Vol', 'FS_Total_GM_Vol',\n",
              "       'FS_SupraTentorial_Vol', 'FS_SupraTentorial_Vol_No_Vent',\n",
              "       'FS_SupraTentorial_No_Vent_Voxel_Count', 'FS_Mask_Vol'],\n",
              "      dtype='object')"
            ]
          },
          "metadata": {},
          "execution_count": 10
        }
      ],
      "source": [
        "X.columns[SelectKBest(k=10).fit(X, y).get_support()]"
      ]
    },
    {
      "cell_type": "code",
      "execution_count": null,
      "metadata": {
        "id": "B1DzRePg8cOw",
        "colab": {
          "base_uri": "https://localhost:8080/"
        },
        "outputId": "f7ec4590-e051-4791-c6aa-dd0ee67fc838"
      },
      "outputs": [
        {
          "output_type": "stream",
          "name": "stderr",
          "text": [
            "/usr/local/lib/python3.10/dist-packages/sklearn/feature_selection/_univariate_selection.py:112: UserWarning: Features [ 55  56  57  58  98  99 100 101 174 175 176 177 178 179 180 181 293 294\n",
            " 295 296 297 298 299 300 301 302 303 304] are constant.\n",
            "  warnings.warn(\"Features %s are constant.\" % constant_features_idx, UserWarning)\n",
            "/usr/local/lib/python3.10/dist-packages/sklearn/feature_selection/_univariate_selection.py:113: RuntimeWarning: invalid value encountered in divide\n",
            "  f = msb / msw\n",
            "/usr/local/lib/python3.10/dist-packages/sklearn/feature_selection/_univariate_selection.py:112: UserWarning: Features [ 55  56  57  58  98  99 100 101 174 175 176 177 178 179 180 181 293 294\n",
            " 295 296 297 298 299 300 301 302 303 304] are constant.\n",
            "  warnings.warn(\"Features %s are constant.\" % constant_features_idx, UserWarning)\n",
            "/usr/local/lib/python3.10/dist-packages/sklearn/feature_selection/_univariate_selection.py:113: RuntimeWarning: invalid value encountered in divide\n",
            "  f = msb / msw\n"
          ]
        },
        {
          "output_type": "execute_result",
          "data": {
            "text/plain": [
              "array([1.94994980e-119, 1.05378836e-132, 2.10947028e-130, 1.82438130e-130,\n",
              "       1.97890774e-115, 1.57062960e-131, 1.02216503e-123, 1.21904593e-121,\n",
              "       1.66388625e-121, 2.09748304e-155])"
            ]
          },
          "metadata": {},
          "execution_count": 11
        }
      ],
      "source": [
        "SelectKBest(k=10).fit(X, y).pvalues_[SelectKBest(k=10).fit(X, y).get_support()]"
      ]
    },
    {
      "cell_type": "markdown",
      "metadata": {
        "id": "fYq5caxt-IhE"
      },
      "source": [
        "What do you know about multiple comparisons?\n",
        "\n",
        "\n",
        "![graph](https://janhove.github.io/figs/2016-04-01-multiple-comparisons-scenarios/unnamed-chunk-1-1.png)\n",
        "\n",
        "![bonf](data:image/png;base64,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)"
      ]
    },
    {
      "cell_type": "markdown",
      "metadata": {
        "id": "cqxetg_W_T9a"
      },
      "source": [
        "One bad paper to look at:\n",
        "https://arxiv.org/pdf/1604.05992.pdf\n",
        "\n",
        "And one good paper:\n",
        "https://www.ncbi.nlm.nih.gov/pmc/articles/PMC3056175/"
      ]
    },
    {
      "cell_type": "markdown",
      "metadata": {
        "id": "ChvHD-DYnCQI"
      },
      "source": [
        "## Now we are doing ML!\n",
        "#### Defining model grid search. Defining new object of Grid Cross Validation Linear class:"
      ]
    },
    {
      "cell_type": "code",
      "execution_count": null,
      "metadata": {
        "id": "gkemN_lFnCQI"
      },
      "outputs": [],
      "source": [
        "from sklearn.linear_model import LogisticRegressionCV"
      ]
    },
    {
      "cell_type": "code",
      "execution_count": null,
      "metadata": {
        "id": "djWwplp8nCQK",
        "colab": {
          "base_uri": "https://localhost:8080/",
          "height": 214
        },
        "outputId": "740aa231-4c71-42e2-e6fc-ce9c7bf1bb04"
      },
      "outputs": [
        {
          "output_type": "stream",
          "name": "stderr",
          "text": [
            "/usr/local/lib/python3.10/dist-packages/sklearn/linear_model/_logistic.py:458: ConvergenceWarning: lbfgs failed to converge (status=1):\n",
            "STOP: TOTAL NO. of ITERATIONS REACHED LIMIT.\n",
            "\n",
            "Increase the number of iterations (max_iter) or scale the data as shown in:\n",
            "    https://scikit-learn.org/stable/modules/preprocessing.html\n",
            "Please also refer to the documentation for alternative solver options:\n",
            "    https://scikit-learn.org/stable/modules/linear_model.html#logistic-regression\n",
            "  n_iter_i = _check_optimize_result(\n"
          ]
        },
        {
          "output_type": "execute_result",
          "data": {
            "text/plain": [
              "LogisticRegressionCV(max_iter=1000, n_jobs=-1, random_state=42)"
            ],
            "text/html": [
              "<style>#sk-container-id-1 {color: black;background-color: white;}#sk-container-id-1 pre{padding: 0;}#sk-container-id-1 div.sk-toggleable {background-color: white;}#sk-container-id-1 label.sk-toggleable__label {cursor: pointer;display: block;width: 100%;margin-bottom: 0;padding: 0.3em;box-sizing: border-box;text-align: center;}#sk-container-id-1 label.sk-toggleable__label-arrow:before {content: \"▸\";float: left;margin-right: 0.25em;color: #696969;}#sk-container-id-1 label.sk-toggleable__label-arrow:hover:before {color: black;}#sk-container-id-1 div.sk-estimator:hover label.sk-toggleable__label-arrow:before {color: black;}#sk-container-id-1 div.sk-toggleable__content {max-height: 0;max-width: 0;overflow: hidden;text-align: left;background-color: #f0f8ff;}#sk-container-id-1 div.sk-toggleable__content pre {margin: 0.2em;color: black;border-radius: 0.25em;background-color: #f0f8ff;}#sk-container-id-1 input.sk-toggleable__control:checked~div.sk-toggleable__content {max-height: 200px;max-width: 100%;overflow: auto;}#sk-container-id-1 input.sk-toggleable__control:checked~label.sk-toggleable__label-arrow:before {content: \"▾\";}#sk-container-id-1 div.sk-estimator input.sk-toggleable__control:checked~label.sk-toggleable__label {background-color: #d4ebff;}#sk-container-id-1 div.sk-label input.sk-toggleable__control:checked~label.sk-toggleable__label {background-color: #d4ebff;}#sk-container-id-1 input.sk-hidden--visually {border: 0;clip: rect(1px 1px 1px 1px);clip: rect(1px, 1px, 1px, 1px);height: 1px;margin: -1px;overflow: hidden;padding: 0;position: absolute;width: 1px;}#sk-container-id-1 div.sk-estimator {font-family: monospace;background-color: #f0f8ff;border: 1px dotted black;border-radius: 0.25em;box-sizing: border-box;margin-bottom: 0.5em;}#sk-container-id-1 div.sk-estimator:hover {background-color: #d4ebff;}#sk-container-id-1 div.sk-parallel-item::after {content: \"\";width: 100%;border-bottom: 1px solid gray;flex-grow: 1;}#sk-container-id-1 div.sk-label:hover label.sk-toggleable__label {background-color: #d4ebff;}#sk-container-id-1 div.sk-serial::before {content: \"\";position: absolute;border-left: 1px solid gray;box-sizing: border-box;top: 0;bottom: 0;left: 50%;z-index: 0;}#sk-container-id-1 div.sk-serial {display: flex;flex-direction: column;align-items: center;background-color: white;padding-right: 0.2em;padding-left: 0.2em;position: relative;}#sk-container-id-1 div.sk-item {position: relative;z-index: 1;}#sk-container-id-1 div.sk-parallel {display: flex;align-items: stretch;justify-content: center;background-color: white;position: relative;}#sk-container-id-1 div.sk-item::before, #sk-container-id-1 div.sk-parallel-item::before {content: \"\";position: absolute;border-left: 1px solid gray;box-sizing: border-box;top: 0;bottom: 0;left: 50%;z-index: -1;}#sk-container-id-1 div.sk-parallel-item {display: flex;flex-direction: column;z-index: 1;position: relative;background-color: white;}#sk-container-id-1 div.sk-parallel-item:first-child::after {align-self: flex-end;width: 50%;}#sk-container-id-1 div.sk-parallel-item:last-child::after {align-self: flex-start;width: 50%;}#sk-container-id-1 div.sk-parallel-item:only-child::after {width: 0;}#sk-container-id-1 div.sk-dashed-wrapped {border: 1px dashed gray;margin: 0 0.4em 0.5em 0.4em;box-sizing: border-box;padding-bottom: 0.4em;background-color: white;}#sk-container-id-1 div.sk-label label {font-family: monospace;font-weight: bold;display: inline-block;line-height: 1.2em;}#sk-container-id-1 div.sk-label-container {text-align: center;}#sk-container-id-1 div.sk-container {/* jupyter's `normalize.less` sets `[hidden] { display: none; }` but bootstrap.min.css set `[hidden] { display: none !important; }` so we also need the `!important` here to be able to override the default hidden behavior on the sphinx rendered scikit-learn.org. See: https://github.com/scikit-learn/scikit-learn/issues/21755 */display: inline-block !important;position: relative;}#sk-container-id-1 div.sk-text-repr-fallback {display: none;}</style><div id=\"sk-container-id-1\" class=\"sk-top-container\"><div class=\"sk-text-repr-fallback\"><pre>LogisticRegressionCV(max_iter=1000, n_jobs=-1, random_state=42)</pre><b>In a Jupyter environment, please rerun this cell to show the HTML representation or trust the notebook. <br />On GitHub, the HTML representation is unable to render, please try loading this page with nbviewer.org.</b></div><div class=\"sk-container\" hidden><div class=\"sk-item\"><div class=\"sk-estimator sk-toggleable\"><input class=\"sk-toggleable__control sk-hidden--visually\" id=\"sk-estimator-id-1\" type=\"checkbox\" checked><label for=\"sk-estimator-id-1\" class=\"sk-toggleable__label sk-toggleable__label-arrow\">LogisticRegressionCV</label><div class=\"sk-toggleable__content\"><pre>LogisticRegressionCV(max_iter=1000, n_jobs=-1, random_state=42)</pre></div></div></div></div></div>"
            ]
          },
          "metadata": {},
          "execution_count": 13
        }
      ],
      "source": [
        "# will run for 1-2 minutes\n",
        "lr_cv = LogisticRegressionCV(max_iter = 1000, random_state = 42, n_jobs = -1)\n",
        "lr_cv.fit(X,y)"
      ]
    },
    {
      "cell_type": "code",
      "execution_count": null,
      "metadata": {
        "id": "bFWvIVcYJrya",
        "colab": {
          "base_uri": "https://localhost:8080/"
        },
        "outputId": "f0cc9c65-5b8c-4710-a093-fcb55a1f9ac8"
      },
      "outputs": [
        {
          "output_type": "execute_result",
          "data": {
            "text/plain": [
              "{1: array([[0.76233184, 0.78923767, 0.79372197, 0.80717489, 0.78923767,\n",
              "         0.8161435 , 0.79820628, 0.8161435 , 0.80717489, 0.8161435 ],\n",
              "        [0.75336323, 0.76681614, 0.78475336, 0.78475336, 0.79820628,\n",
              "         0.79372197, 0.78475336, 0.78026906, 0.78475336, 0.78026906],\n",
              "        [0.78923767, 0.83408072, 0.86547085, 0.85201794, 0.83856502,\n",
              "         0.83856502, 0.84304933, 0.84304933, 0.83856502, 0.83408072],\n",
              "        [0.78378378, 0.80630631, 0.7972973 , 0.81981982, 0.81081081,\n",
              "         0.82432432, 0.81531532, 0.82432432, 0.81531532, 0.82432432],\n",
              "        [0.83333333, 0.81081081, 0.82882883, 0.81531532, 0.82432432,\n",
              "         0.82882883, 0.84234234, 0.82882883, 0.82432432, 0.81981982]])}"
            ]
          },
          "metadata": {},
          "execution_count": 14
        }
      ],
      "source": [
        "lr_cv.scores_"
      ]
    },
    {
      "cell_type": "markdown",
      "metadata": {
        "id": "rozToSPHC2Kh"
      },
      "source": [
        "## What else?\n",
        "\n",
        "0. Hyperparameter search and model optimisation. Comparison of model performance with statistical testing.\n",
        "1. Model interpretation\n",
        "2. Biomarkers stability\n",
        "3. Biomarkers statistical approval"
      ]
    },
    {
      "cell_type": "markdown",
      "metadata": {
        "id": "S7Eo1Z-MDSRD"
      },
      "source": [
        "How we can explore the found morphometry biomarkers from here?"
      ]
    },
    {
      "cell_type": "code",
      "execution_count": null,
      "metadata": {
        "id": "9v5V8yCqSywb",
        "colab": {
          "base_uri": "https://localhost:8080/"
        },
        "outputId": "d3dd344e-533c-4d75-d1ed-4a7e7fc101da"
      },
      "outputs": [
        {
          "output_type": "execute_result",
          "data": {
            "text/plain": [
              "array([[-1.45840674e-07, -3.26367653e-04,  9.57976953e-05,\n",
              "        -1.15047707e-03, -4.10459856e-04, -1.48588139e-04,\n",
              "        -5.65467264e-04, -1.69973805e-04,  1.88786935e-03,\n",
              "         3.28573138e-05, -4.15561250e-04,  1.04856549e-03,\n",
              "         1.68288351e-04,  2.75450722e-04,  4.43826492e-04,\n",
              "        -1.59589310e-05,  5.20750706e-06,  7.28813618e-06,\n",
              "         5.90234662e-05,  7.41159091e-05,  1.33139375e-04,\n",
              "         7.90422898e-05,  1.43283354e-03,  7.59293256e-04,\n",
              "        -1.48390341e-04, -2.63502843e-04,  1.87396319e-04,\n",
              "        -3.08692654e-04, -6.03758108e-04,  9.80553372e-05,\n",
              "         2.54246047e-04,  1.25931619e-04, -4.06059273e-04,\n",
              "        -2.60622799e-03, -8.03605586e-04, -1.37553947e-03,\n",
              "        -1.09515564e-03, -2.64301420e-04, -7.31552924e-04,\n",
              "         2.31192460e-04, -5.05670684e-04,  5.44769693e-04,\n",
              "        -3.81340881e-04, -1.09398291e-04, -5.55138241e-04,\n",
              "        -6.90809171e-04, -8.91877373e-05,  1.35645502e-04,\n",
              "        -1.39743087e-03, -1.22254897e-03, -2.74766623e-04,\n",
              "        -4.87561940e-04,  2.05379072e-05,  1.77435526e-05,\n",
              "        -1.84217142e-04,  0.00000000e+00,  0.00000000e+00,\n",
              "         0.00000000e+00,  0.00000000e+00, -8.81779042e-04,\n",
              "         3.19275464e-03,  1.15493942e-03,  1.11845400e-04,\n",
              "         1.59260636e-04,  1.83210651e-03,  7.94042972e-05,\n",
              "         7.58708329e-04, -1.48600782e-04, -2.64378638e-04,\n",
              "         1.86039675e-04, -3.10460062e-04, -6.03263137e-04,\n",
              "         9.95749580e-05,  2.52369470e-04,  1.25517810e-04,\n",
              "        -4.06766253e-04, -2.60268215e-03, -8.05860078e-04,\n",
              "        -1.37517522e-03, -1.09394561e-03, -2.66549315e-04,\n",
              "        -7.32101309e-04,  2.31641162e-04, -5.06382746e-04,\n",
              "         5.41194122e-04, -3.80257545e-04, -1.08588162e-04,\n",
              "        -5.53464631e-04, -6.90067367e-04, -8.67197817e-05,\n",
              "         1.32939135e-04, -1.39439524e-03, -1.22390934e-03,\n",
              "        -2.76330479e-04, -4.88369670e-04,  2.00471997e-05,\n",
              "         2.02773792e-05, -1.85518705e-04,  0.00000000e+00,\n",
              "         0.00000000e+00,  0.00000000e+00,  0.00000000e+00,\n",
              "        -8.82661505e-04,  3.19017284e-03,  1.15260357e-03,\n",
              "         1.09487918e-04,  1.56111491e-04,  1.82757238e-03,\n",
              "         2.34987901e-04,  8.45644235e-05,  6.25712202e-04,\n",
              "         2.83455112e-05,  5.18735786e-04,  4.64648616e-05,\n",
              "         5.44739244e-04,  4.61144366e-05,  5.32252038e-04,\n",
              "         5.13781605e-05,  6.29261312e-04,  3.98381248e-05,\n",
              "         7.36332946e-04,  2.38040879e-05,  3.02694714e-04,\n",
              "         8.31940914e-05,  2.59538667e-04,  6.39482565e-05,\n",
              "         6.25606609e-04,  5.83314263e-05,  4.67519758e-04,\n",
              "         3.31459558e-05,  4.53870205e-04,  3.34386644e-05,\n",
              "         2.71701924e-04,  6.97764458e-05,  5.23358001e-04,\n",
              "         2.40427259e-05,  6.14356888e-04,  6.20726082e-05,\n",
              "         5.13157036e-04,  3.97618105e-05,  3.73673675e-04,\n",
              "         7.53993349e-05,  2.22821046e-04,  7.76238247e-05,\n",
              "         3.24934632e-04,  3.60690088e-05,  6.00947454e-04,\n",
              "         3.97778964e-05,  5.02462291e-04,  4.57898690e-05,\n",
              "         5.14911049e-04,  3.67916929e-05,  5.29843991e-04,\n",
              "         5.36649202e-05,  6.31966140e-04,  3.96062746e-05,\n",
              "         7.08863413e-04,  1.82359406e-05,  4.58915494e-04,\n",
              "         3.90689747e-05,  4.35156892e-04,  3.69228269e-05,\n",
              "         5.07939126e-04,  3.37546704e-05,  6.11862287e-04,\n",
              "         5.29515975e-05,  4.80036976e-04,  2.91019986e-05,\n",
              "         3.62191377e-04,  6.43447614e-05,  7.35237027e-06,\n",
              "        -4.46284690e-05,  4.74131419e-04,  8.42495886e-05,\n",
              "         0.00000000e+00,  0.00000000e+00,  0.00000000e+00,\n",
              "         0.00000000e+00,  0.00000000e+00,  0.00000000e+00,\n",
              "         0.00000000e+00,  0.00000000e+00,  5.57772774e-04,\n",
              "         7.74031441e-05,  5.65690154e-04,  1.51070055e-05,\n",
              "         5.77056358e-04,  4.51064990e-06,  5.88782782e-04,\n",
              "         4.68422907e-06,  5.97918441e-04,  1.77353644e-05,\n",
              "         6.49961960e-04,  6.12092477e-05,  5.26582445e-04,\n",
              "         1.30778630e-04,  6.57361076e-04,  4.11650091e-04,\n",
              "         2.69669814e-04,  6.81319906e-04,  6.19827850e-04,\n",
              "         1.70286626e-04,  7.90114477e-04,  4.90220916e-04,\n",
              "         2.88075717e-04,  7.78296634e-04,  3.70672231e-04,\n",
              "         2.64020042e-04,  6.34692273e-04,  1.93262768e-04,\n",
              "         5.51311802e-04,  7.44574570e-04,  1.61245138e-04,\n",
              "         5.86034576e-04,  7.47279714e-04,  2.34588797e-04,\n",
              "         1.46583535e-04,  3.81172332e-04,  3.68684725e-04,\n",
              "         1.12504887e-04,  4.81189612e-04,  8.69485449e-04,\n",
              "        -6.18832995e-05,  8.07602149e-04,  4.64199589e-04,\n",
              "         2.51920016e-04,  7.16119604e-04,  1.24816957e-04,\n",
              "         3.99288224e-04,  5.24105180e-04,  3.54805709e-04,\n",
              "         1.43997992e-04,  4.98803700e-04,  8.44567240e-05,\n",
              "         4.81893311e-04,  5.66350036e-04,  4.53275503e-04,\n",
              "         4.31311715e-04,  8.84587218e-04,  9.80210067e-05,\n",
              "         4.78092479e-04,  5.76113486e-04,  4.02632818e-04,\n",
              "         1.86591297e-04,  5.89224114e-04,  5.22773442e-04,\n",
              "         1.17391649e-04,  6.40165091e-04,  1.57460969e-04,\n",
              "         2.16771709e-04,  3.74232678e-04,  5.75743390e-04,\n",
              "         1.15367158e-04,  6.91110548e-04,  4.41476476e-04,\n",
              "         1.22136294e-04,  5.63612770e-04,  3.54863788e-04,\n",
              "         2.80773601e-04,  6.35637389e-04,  3.51077189e-04,\n",
              "         2.91724142e-04,  6.42801330e-04,  3.14850421e-04,\n",
              "         4.25804242e-04,  7.40654663e-04,  1.20696180e-04,\n",
              "         5.97966026e-04,  7.18662206e-04,  4.26852475e-04,\n",
              "         3.74521208e-04,  8.01373683e-04,  2.80454053e-04,\n",
              "         2.36101807e-04,  5.16555860e-04,  2.59976518e-04,\n",
              "         3.04411910e-04,  5.64388428e-04,  4.90162915e-04,\n",
              "         3.46901640e-04,  8.37064555e-04,  6.21840093e-05,\n",
              "         4.32710981e-04,  4.94894991e-04,  4.54500805e-04,\n",
              "         1.57032232e-04,  6.11533037e-04, -5.04906920e-05,\n",
              "         4.25156098e-05, -7.97508226e-06,  5.29706802e-04,\n",
              "         1.87744197e-04,  7.17450999e-04,  0.00000000e+00,\n",
              "         0.00000000e+00,  0.00000000e+00,  0.00000000e+00,\n",
              "         0.00000000e+00,  0.00000000e+00,  0.00000000e+00,\n",
              "         0.00000000e+00,  0.00000000e+00,  0.00000000e+00,\n",
              "         0.00000000e+00,  0.00000000e+00,  1.71750295e-04,\n",
              "         3.21329446e-04,  4.93079741e-04,  2.41156208e-04,\n",
              "         3.49382230e-04,  5.90538438e-04,  5.84154199e-05,\n",
              "         5.65878595e-04,  6.24294015e-04, -5.13542868e-05,\n",
              "         6.62842965e-04,  6.11488678e-04,  1.47738806e-04,\n",
              "         4.80820882e-04,  6.28559689e-04,  5.39756790e-04,\n",
              "         5.73207977e-04,  1.11296477e-03,  1.87643725e-05,\n",
              "         1.73255802e-05,  1.71859332e-05,  1.30375218e-05,\n",
              "         2.09226479e-05,  2.01470576e-05,  1.75344139e-05,\n",
              "         2.10238886e-05,  1.49077966e-05,  1.63301555e-05,\n",
              "         1.83475857e-05,  1.32712630e-05,  1.59132971e-05,\n",
              "         2.14938048e-05,  1.73846427e-05,  1.75826368e-05,\n",
              "         1.75553761e-05,  2.00649999e-05,  1.70638617e-05,\n",
              "         1.32932311e-05,  1.50926218e-05,  1.80434061e-05,\n",
              "         1.77438002e-05,  1.58748535e-05,  2.02566108e-05,\n",
              "         1.69504171e-05,  1.94470914e-05,  1.52390730e-05,\n",
              "         1.78006523e-05,  1.82202211e-05,  2.38934735e-05,\n",
              "         2.48716928e-05,  2.09094456e-05,  1.83983083e-05,\n",
              "         1.84258456e-05,  1.75959727e-05,  1.75979764e-05,\n",
              "         1.45635635e-05,  2.01203588e-05,  1.95804933e-05,\n",
              "         1.77032691e-05,  2.06197818e-05,  1.39956401e-05,\n",
              "         1.62474363e-05,  1.89455405e-05,  1.39849795e-05,\n",
              "         1.85054843e-05,  2.01607045e-05,  1.98046458e-05,\n",
              "         1.78351774e-05,  1.77067340e-05,  1.96489885e-05,\n",
              "         1.62806686e-05,  1.32404158e-05,  1.51095938e-05,\n",
              "         1.72965484e-05,  1.76193307e-05,  1.61390635e-05,\n",
              "         2.06304351e-05,  1.67380202e-05,  1.92237736e-05,\n",
              "         1.57394187e-05,  1.77290464e-05,  1.78350947e-05,\n",
              "         2.27403607e-05,  2.33305806e-05,  2.01542677e-05,\n",
              "         1.76833156e-05, -2.51679195e-05,  5.12093330e-04,\n",
              "         6.21353513e-04,  7.12992870e-04, -6.43303194e-04,\n",
              "        -4.62997518e-04, -2.83790698e-04, -5.95044058e-04,\n",
              "        -2.06239015e-04,  1.12230057e-04,  8.57629271e-04,\n",
              "         1.87513155e-04,  4.94689387e-04, -1.28776024e-03,\n",
              "         4.55227821e-05, -1.51471330e-04,  1.23576212e-04,\n",
              "        -9.61469256e-05, -2.54220504e-04,  3.84032163e-04,\n",
              "        -6.22362418e-04, -1.29547303e-04,  8.92739520e-05,\n",
              "         3.99632623e-04, -4.32382822e-04, -1.84936358e-04,\n",
              "        -3.07452751e-04,  1.04834691e-03,  3.20086177e-04,\n",
              "        -6.32704809e-04,  1.23105728e-04, -4.46253372e-04,\n",
              "        -4.09311570e-04,  1.29263319e-03,  5.28125855e-05,\n",
              "         1.07194928e-04, -1.05790853e-04,  2.19226314e-04,\n",
              "        -3.16351895e-04,  1.17971079e-05, -1.29258729e-04,\n",
              "        -8.17278613e-04, -4.48168255e-04,  7.19124044e-04,\n",
              "         2.23267482e-04, -6.08075913e-05,  2.53168540e-04,\n",
              "         1.50786901e-04, -3.38583264e-04, -2.94449377e-04,\n",
              "        -4.34494867e-04, -1.27779673e-04,  6.95570499e-04,\n",
              "         6.15954609e-05, -3.69281551e-04, -8.32261732e-05,\n",
              "         7.13707821e-04,  5.25538300e-04, -1.51195069e-04,\n",
              "         1.03882446e-03, -3.41011251e-04,  8.69130516e-04,\n",
              "         1.17214589e-03,  4.00206601e-04,  2.52746430e-04,\n",
              "        -3.46901120e-04, -9.60616988e-05,  1.96125508e-03,\n",
              "         1.54731030e-03,  3.53817269e-04,  9.30277530e-04,\n",
              "        -1.04818866e-03, -4.24648274e-04, -8.06243001e-04,\n",
              "         5.98754716e-04,  3.61049435e-04, -5.33301285e-05,\n",
              "        -1.19488483e-04,  9.65370060e-04,  2.76358953e-04,\n",
              "         1.24624153e-03,  8.70411302e-04,  4.61829636e-04,\n",
              "        -6.49889448e-04, -5.94326077e-04,  1.21870135e-05,\n",
              "        -1.18128651e-03, -5.58884522e-06, -1.23934821e-03,\n",
              "        -1.03158979e-04,  6.42665222e-04, -3.86737000e-04,\n",
              "        -8.17721510e-04, -8.34530219e-04, -1.43319155e-04,\n",
              "         1.56969828e-04,  1.19592337e-04, -4.62875171e-04,\n",
              "         2.09856281e-04, -4.50850865e-04, -1.68055408e-03,\n",
              "         1.50523748e-03,  2.61166574e-04,  6.67292248e-04,\n",
              "         2.39966323e-05, -9.01858156e-04, -6.36243214e-04,\n",
              "         5.41258540e-04,  5.47798509e-04,  2.08958662e-04,\n",
              "        -8.21368730e-04, -8.47091329e-04, -2.57904538e-04,\n",
              "        -1.31972489e-04, -1.34272912e-05,  1.48919464e-03,\n",
              "        -4.86344899e-04, -5.28171948e-04, -6.57187203e-04,\n",
              "        -4.21824909e-05,  8.82609846e-05,  4.26181492e-04,\n",
              "        -5.83476036e-04, -6.98842104e-04,  4.81649819e-04,\n",
              "        -1.40691206e-04, -2.97549793e-04,  1.66765024e-04,\n",
              "         8.60600930e-05,  4.97922521e-05,  2.42758405e-03,\n",
              "        -6.81131467e-04,  6.27338594e-04, -5.79319573e-04,\n",
              "        -6.63317001e-04,  1.73244209e-03, -8.37235031e-04,\n",
              "        -8.03290572e-04, -7.31295274e-04, -2.30104994e-04,\n",
              "        -8.59042270e-04, -2.52344484e-05, -2.98121892e-04,\n",
              "        -3.69507905e-04,  2.57028464e-04, -2.75940239e-04,\n",
              "        -7.98423512e-04, -6.80134003e-04, -1.58271184e-03,\n",
              "        -2.32358697e-04,  3.61381385e-05,  1.18289082e-03,\n",
              "        -2.25372556e-04,  5.89247081e-04,  4.75183337e-04,\n",
              "         2.65542911e-04,  5.62563590e-04, -2.72969612e-04,\n",
              "        -4.79057769e-04, -1.23185859e-04,  2.41575385e-04,\n",
              "        -7.52885803e-05,  4.01183551e-05, -2.71324138e-04,\n",
              "        -2.38113772e-04, -3.37308651e-04,  2.13717630e-03,\n",
              "         1.97126355e-03,  1.00503128e-03, -1.37476247e-03,\n",
              "        -5.56925596e-04,  8.36884187e-04, -1.36215386e-04,\n",
              "         5.38766320e-04, -1.41624904e-04, -5.16186175e-04,\n",
              "        -6.29947959e-04, -4.27731192e-04,  1.82309881e-04,\n",
              "        -2.79269947e-04, -5.00884041e-04, -3.04025971e-04,\n",
              "        -3.13458432e-04, -9.94830386e-04,  9.27283952e-04,\n",
              "         5.41772362e-04,  1.86657070e-04, -6.40596902e-04,\n",
              "        -8.44767710e-04, -1.02460834e-03,  7.60214701e-05,\n",
              "        -1.19418702e-04, -1.07320142e-03, -5.12057536e-04,\n",
              "        -1.02181066e-03, -9.40431647e-04, -2.63891100e-04,\n",
              "        -5.27478736e-04, -1.04322162e-03, -1.24866803e-04,\n",
              "         1.37083922e-03,  1.32337905e-03,  5.77102800e-04,\n",
              "        -2.40196385e-03,  2.63752696e-06,  5.21106304e-06,\n",
              "         3.75536755e-06,  2.62284349e-06,  7.06900359e-06,\n",
              "         4.67536483e-06,  2.59104068e-06,  4.06833538e-06,\n",
              "         4.04446143e-06,  2.49965326e-06,  3.62556495e-06,\n",
              "         2.80996891e-06,  4.34977482e-06,  4.69596172e-06,\n",
              "         6.12322065e-06,  4.40640001e-06,  4.05134009e-06,\n",
              "         4.49805422e-06,  3.53385186e-06,  3.00019447e-06,\n",
              "         3.37856272e-06,  4.47306260e-06,  3.45884665e-06,\n",
              "         3.86656842e-06,  6.29022261e-06,  3.68148019e-06,\n",
              "         4.64113673e-06,  2.66417372e-06,  3.75371760e-06,\n",
              "         4.09697337e-06,  4.15917791e-06,  3.64509842e-06,\n",
              "         4.00385236e-06,  4.47834151e-06,  1.93254790e-06,\n",
              "         5.52240555e-06,  4.18491450e-06,  2.51327025e-06,\n",
              "         6.87137716e-06,  5.10909680e-06,  2.52618618e-06,\n",
              "         4.68507898e-06,  3.80563373e-06,  1.85158516e-06,\n",
              "         4.71677662e-06,  2.96403167e-06,  3.77807519e-06,\n",
              "         4.90021979e-06,  6.39295763e-06,  4.00204142e-06,\n",
              "         3.76404489e-06,  3.68730142e-06,  3.42066115e-06,\n",
              "         2.81516267e-06,  3.13930660e-06,  2.57721082e-06,\n",
              "         3.83259829e-06,  3.55540849e-06,  4.65880401e-06,\n",
              "         3.91082278e-06,  4.16040286e-06,  3.12515316e-06,\n",
              "         3.82719244e-06,  3.76284475e-06,  1.77609976e-06,\n",
              "         2.30329565e-06,  2.31264525e-06,  3.19472501e-06,\n",
              "         8.55632046e-07,  1.14344516e-06,  1.12293641e-06,\n",
              "         1.19402683e-06,  6.51850284e-07,  1.20792822e-06,\n",
              "         1.21001206e-06,  1.11499744e-06,  1.21940761e-06,\n",
              "         1.16747404e-06,  1.13310344e-06,  1.20890382e-06,\n",
              "         1.34121866e-06,  1.06272913e-06,  5.90749344e-07,\n",
              "         1.02996644e-06,  1.12365411e-06,  1.66690445e-06,\n",
              "         1.30255361e-06,  1.35255714e-06,  9.50436818e-07,\n",
              "         1.24872989e-06,  1.01092796e-06,  1.12244331e-06,\n",
              "         1.72369090e-06,  1.33658981e-06,  1.25349511e-06,\n",
              "         1.07738042e-06,  9.58538106e-07,  1.21645048e-06,\n",
              "         1.77178261e-06,  1.00752608e-06,  1.46668924e-06,\n",
              "         1.90249448e-06,  6.21200098e-07,  1.53973861e-06,\n",
              "         1.12978078e-06,  1.28581164e-06,  9.09588573e-07,\n",
              "         1.15657820e-06,  1.19938686e-06,  1.17642665e-06,\n",
              "         1.22776323e-06,  1.22377395e-06,  1.32384848e-06,\n",
              "         1.21603136e-06,  1.36820483e-06,  1.11242527e-06,\n",
              "         8.82624740e-07,  9.70764061e-07,  1.17870333e-06,\n",
              "         1.43143950e-06,  1.24739199e-06,  1.16836715e-06,\n",
              "         8.96944086e-07,  1.37366117e-06,  1.00142377e-06,\n",
              "         1.16938882e-06,  1.57172479e-06,  1.34080057e-06,\n",
              "         1.20874082e-06,  1.20137354e-06,  8.38364858e-07,\n",
              "         1.23265552e-06,  1.67695132e-06,  1.07082363e-06,\n",
              "         1.25687465e-06,  1.89459414e-06, -3.22894045e-07,\n",
              "        -2.79068237e-07,  1.88306698e-07, -5.26177160e-08,\n",
              "        -9.14010405e-06,  9.58275872e-07,  5.63778725e-07,\n",
              "         3.03235176e-06,  1.28276263e-06,  5.75757410e-07,\n",
              "        -1.23356961e-06,  1.60291361e-06,  2.15584567e-07,\n",
              "        -8.86982351e-08,  9.20646478e-07, -1.44333296e-07,\n",
              "         2.06244707e-06, -1.19106634e-06,  4.49074924e-07,\n",
              "         2.15174605e-06,  2.17298174e-06, -4.57500925e-07,\n",
              "         1.73542331e-06,  1.13490793e-07, -1.75378469e-07,\n",
              "         3.22582124e-08, -4.20190413e-07,  6.36453270e-07,\n",
              "        -2.38992799e-08,  4.39320813e-07,  9.54729211e-07,\n",
              "         7.81154053e-06, -1.46523519e-06,  7.86269102e-06,\n",
              "        -2.50137441e-07,  1.26210822e-06,  3.17529603e-07,\n",
              "         1.08648729e-06, -1.25438712e-06,  2.87917836e-07,\n",
              "         6.56633126e-07,  3.84959305e-07, -6.09867551e-07,\n",
              "         5.08373779e-07, -8.17582130e-08,  1.07427226e-06,\n",
              "        -1.46442261e-07,  4.60249996e-07,  1.29001509e-06,\n",
              "         2.91897111e-06,  1.11939373e-06, -2.23440076e-07,\n",
              "         8.24058429e-07, -1.44613897e-08,  3.29162390e-07,\n",
              "         1.04303593e-06,  1.13848947e-06,  4.95999075e-07,\n",
              "         3.93408978e-06,  4.29614827e-07, -4.99266642e-08,\n",
              "         2.22033524e-07,  5.27425968e-07,  6.86007575e-08,\n",
              "         2.02053671e-06,  5.61934572e-07,  1.03262755e-06,\n",
              "         7.61368688e-06, -5.81151386e-04, -1.52849834e-04,\n",
              "         2.37112007e-04, -4.90933989e-04, -6.89116415e-04,\n",
              "         8.91954654e-04, -5.81589780e-04, -1.50839151e-05,\n",
              "         6.42607019e-04,  5.22952540e-04, -2.20813181e-03,\n",
              "         1.24298282e-03,  1.39657263e-05, -1.12071598e-04,\n",
              "        -2.38577533e-04, -1.47172044e-04,  1.62504318e-05,\n",
              "        -1.91238995e-04,  3.31864909e-04,  1.07680729e-03,\n",
              "         3.32098113e-04, -4.36431029e-04,  5.41768218e-04,\n",
              "        -8.07306469e-04,  1.07883046e-04, -4.29248676e-04,\n",
              "        -9.43165364e-05,  5.57680590e-04, -1.48854757e-03,\n",
              "        -2.87553112e-04,  3.66337087e-05, -3.33230108e-04,\n",
              "         2.46042124e-04, -1.85214244e-05,  1.14474519e-04,\n",
              "         4.72930836e-05, -4.80369800e-05,  1.48909751e-04,\n",
              "        -6.89131394e-04,  5.52137173e-04,  1.37896032e-03,\n",
              "        -3.91567003e-04, -7.69944105e-04,  1.41468950e-04,\n",
              "        -1.11604227e-05,  3.78207010e-04,  2.35556195e-04,\n",
              "        -2.56223033e-05,  2.20619708e-04, -4.88616599e-04,\n",
              "         6.27819740e-04, -1.21289068e-04,  5.99919462e-04,\n",
              "         1.19714415e-03, -1.58904719e-04,  6.67216917e-04,\n",
              "         5.05687669e-04,  2.74960330e-04,  1.34518352e-04,\n",
              "        -1.79299831e-03, -1.01763904e-03,  4.72985484e-04,\n",
              "        -3.07614173e-05,  1.05707584e-04,  1.94625549e-04,\n",
              "        -7.26668500e-05, -7.03774293e-05,  8.23779579e-05,\n",
              "        -3.09045937e-06,  1.17831373e-05,  4.20901895e-05,\n",
              "        -2.42570502e-05, -4.63252758e-06, -3.58876594e-05,\n",
              "         7.30787069e-05, -2.10347915e-05, -3.82243668e-05,\n",
              "         4.16142286e-05, -4.83421274e-05, -6.20908779e-05,\n",
              "         3.40651380e-04,  2.15453373e-05,  3.48172136e-05,\n",
              "         6.31273057e-09,  3.27785119e-05,  2.56979980e-05,\n",
              "         6.83375556e-06,  6.09699141e-05,  3.83701363e-05,\n",
              "        -1.67802717e-05,  1.09172587e-04,  1.47652574e-05,\n",
              "         3.80272552e-05,  7.09221074e-05,  9.75315052e-05,\n",
              "         4.30400925e-05, -1.38555301e-05,  4.90943678e-06,\n",
              "         6.95580499e-06, -2.00628691e-05,  1.39803145e-05,\n",
              "         6.45038029e-04, -6.91335957e-06, -3.05231256e-07,\n",
              "        -5.33720461e-06,  3.47341605e-05, -1.28285871e-05,\n",
              "        -1.47064802e-05,  4.28973689e-05,  5.74955555e-05,\n",
              "        -2.79557973e-05,  4.56976447e-05,  3.22326558e-04,\n",
              "        -4.00894767e-05,  1.11735575e-05,  3.05103137e-05,\n",
              "         2.56476435e-05, -2.77095854e-05, -5.07071091e-07,\n",
              "         8.31183796e-06,  3.51197215e-06,  4.97393918e-05,\n",
              "        -1.99533026e-05, -1.01747668e-05,  5.77632744e-05,\n",
              "         5.21734916e-05,  2.38813434e-05,  4.51965435e-05,\n",
              "        -1.34676325e-04,  4.34268086e-05, -1.08129411e-05,\n",
              "         3.59268842e-05,  1.34284595e-06, -3.40596263e-05,\n",
              "        -7.33089701e-06,  8.17759332e-04]])"
            ]
          },
          "metadata": {},
          "execution_count": 15
        }
      ],
      "source": [
        "lr_cv.coef_"
      ]
    },
    {
      "cell_type": "markdown",
      "metadata": {
        "id": "G7UmTL2J93KA"
      },
      "source": [
        "How do we compare the performance of **two classificational models**?\n",
        "\n",
        "Nice work with recommendations on models comparison: https://arxiv.org/pdf/1806.08295.pdf"
      ]
    }
  ],
  "metadata": {
    "colab": {
      "provenance": [],
      "toc_visible": true
    },
    "kernelspec": {
      "display_name": "Python 3 (ipykernel)",
      "language": "python",
      "name": "python3"
    },
    "language_info": {
      "codemirror_mode": {
        "name": "ipython",
        "version": 3
      },
      "file_extension": ".py",
      "mimetype": "text/x-python",
      "name": "python",
      "nbconvert_exporter": "python",
      "pygments_lexer": "ipython3",
      "version": "3.7.12"
    }
  },
  "nbformat": 4,
  "nbformat_minor": 0
}