{
  "cells": [
    {
      "cell_type": "code",
      "source": [
        "!pip install monai"
      ],
      "metadata": {
        "colab": {
          "base_uri": "https://localhost:8080/"
        },
        "id": "a9gT_j6zFirQ",
        "outputId": "c44144c9-f0ab-4d29-aba8-3030f15352e8"
      },
      "id": "a9gT_j6zFirQ",
      "execution_count": 1,
      "outputs": [
        {
          "output_type": "stream",
          "name": "stdout",
          "text": [
            "Looking in indexes: https://pypi.org/simple, https://us-python.pkg.dev/colab-wheels/public/simple/\n",
            "Collecting monai\n",
            "  Downloading monai-1.0.0-202209161346-py3-none-any.whl (1.1 MB)\n",
            "\u001b[K     |████████████████████████████████| 1.1 MB 4.9 MB/s \n",
            "\u001b[?25hRequirement already satisfied: torch>=1.7 in /usr/local/lib/python3.7/dist-packages (from monai) (1.12.1+cu113)\n",
            "Requirement already satisfied: numpy>=1.17 in /usr/local/lib/python3.7/dist-packages (from monai) (1.21.6)\n",
            "Requirement already satisfied: typing-extensions in /usr/local/lib/python3.7/dist-packages (from torch>=1.7->monai) (4.1.1)\n",
            "Installing collected packages: monai\n",
            "Successfully installed monai-1.0.0\n"
          ]
        }
      ]
    },
    {
      "cell_type": "code",
      "execution_count": 1,
      "id": "bcf49af4-7622-4c67-afdd-f0146e682a8e",
      "metadata": {
        "id": "bcf49af4-7622-4c67-afdd-f0146e682a8e"
      },
      "outputs": [],
      "source": [
        "# Copyright 2020 MONAI Consortium\n",
        "# Licensed under the Apache License, Version 2.0 (the \"License\");\n",
        "# you may not use this file except in compliance with the License.\n",
        "# You may obtain a copy of the License at\n",
        "#     http://www.apache.org/licenses/LICENSE-2.0\n",
        "# Unless required by applicable law or agreed to in writing, software\n",
        "# distributed under the License is distributed on an \"AS IS\" BASIS,\n",
        "# WITHOUT WARRANTIES OR CONDITIONS OF ANY KIND, either express or implied.\n",
        "# See the License for the specific language governing permissions and\n",
        "# limitations under the License.\n",
        "import os\n",
        "import sys\n",
        "from pathlib import Path\n",
        "import matplotlib.pyplot as plt\n",
        "import torch\n",
        "from torch.utils.tensorboard import SummaryWriter\n",
        "import numpy as np\n",
        "import pandas as pd\n",
        "import monai\n",
        "from monai.apps import download_and_extract\n",
        "from monai.config import print_config\n",
        "from monai.data import DataLoader, ImageDataset\n",
        "from monai.transforms import (\n",
        "    EnsureChannelFirst,\n",
        "    Compose,\n",
        "    RandRotate90,\n",
        "    Resize,\n",
        "    ScaleIntensity,\n",
        "    CropForeground,\n",
        "    NormalizeIntensity\n",
        ")\n",
        "from monai.data import NibabelReader\n",
        "from monai.networks.blocks import ResidualUnit,Convolution\n",
        "from torch import nn\n",
        "import warnings\n",
        "def warn(*args, **kwargs):\n",
        "    pass\n",
        "warnings.warn = warn\n",
        "from IPython import display\n",
        "import random\n",
        "import numpy as np"
      ]
    },
    {
      "cell_type": "markdown",
      "source": [
        "#  Seminar 6.2 : Deep Learning methods for fMRI data"
      ],
      "metadata": {
        "id": "QKCUbCVYhVLw"
      },
      "id": "QKCUbCVYhVLw"
    },
    {
      "cell_type": "markdown",
      "source": [
        "In the seminar we try to implement 3D CNN+GRU model on ICA fMRI data to classify Schizophrenia vs Control on SchizConnect dataset.\n",
        "\n",
        "fMRI data is 4D tensor with 3 spatial dimensions and one temporal. In last part of seminar we selected 30 ICA components from fMRI data.\n",
        "\n",
        "Data from SchizConnect was preproccesed by fmriprep\n",
        "\n",
        "Useful links:\n",
        "\n",
        "\n",
        "*   Monai docs: https://docs.monai.io/en/latest/api.html\n",
        "*   SchizConnect: http://schizconnect.org/\n",
        "*   fMRIPrep : https://fmriprep.org/en/stable/index.html\n",
        "\n"
      ],
      "metadata": {
        "id": "animW7iyhegM"
      },
      "id": "animW7iyhegM"
    },
    {
      "cell_type": "code",
      "source": [
        "try:\n",
        "    import google.colab\n",
        "    IN_COLAB = True\n",
        "except ImportError:\n",
        "    IN_COLAB = False\n",
        "\n",
        "from pathlib import Path\n",
        "if IN_COLAB:\n",
        "    google.colab.drive.mount(\"/content/drive\")\n",
        "    \n",
        "    # Change this if you created the shortcut in a different location\n",
        "    AUX_DATA_ROOT = Path(\"/content/drive/My Drive/NEUROML\")\n",
        "    \n",
        "    assert AUX_DATA_ROOT.is_dir(), \"Have you forgot to 'Add a shortcut to Drive'?\"\n",
        "    \n",
        "    import sys\n",
        "    sys.path.append(str(AUX_DATA_ROOT))\n",
        "else:\n",
        "    AUX_DATA_ROOT = Path(\".\")"
      ],
      "metadata": {
        "colab": {
          "base_uri": "https://localhost:8080/"
        },
        "id": "-xGjijROFZFf",
        "outputId": "bfc4b59f-fb41-40d8-ecdd-34c4b44731ed"
      },
      "id": "-xGjijROFZFf",
      "execution_count": 4,
      "outputs": [
        {
          "output_type": "stream",
          "name": "stdout",
          "text": [
            "Drive already mounted at /content/drive; to attempt to forcibly remount, call drive.mount(\"/content/drive\", force_remount=True).\n"
          ]
        }
      ]
    },
    {
      "cell_type": "code",
      "execution_count": 12,
      "id": "263d57b9-a5bc-443d-a1fe-78c5904b1709",
      "metadata": {
        "id": "263d57b9-a5bc-443d-a1fe-78c5904b1709"
      },
      "outputs": [],
      "source": [
        "pin_memory = torch.cuda.is_available()\n",
        "device = torch.device(\"cuda\" if torch.cuda.is_available() else \"cpu\")"
      ]
    },
    {
      "cell_type": "code",
      "execution_count": 13,
      "id": "d400a6b4-88e8-4fd0-90de-5774ef7e3fa4",
      "metadata": {
        "colab": {
          "base_uri": "https://localhost:8080/"
        },
        "id": "d400a6b4-88e8-4fd0-90de-5774ef7e3fa4",
        "outputId": "b24ed6d4-9727-4648-96f9-e3d77ee5c959"
      },
      "outputs": [
        {
          "output_type": "execute_result",
          "data": {
            "text/plain": [
              "device(type='cuda')"
            ]
          },
          "metadata": {},
          "execution_count": 13
        }
      ],
      "source": [
        "device"
      ]
    },
    {
      "cell_type": "markdown",
      "source": [
        "Firstly, we need to download preprecessed fMRI data:"
      ],
      "metadata": {
        "id": "Glo3iNGIoeoQ"
      },
      "id": "Glo3iNGIoeoQ"
    },
    {
      "cell_type": "code",
      "source": [
        "! wget \"https://s101sas.storage.yandex.net/rdisk/0a856c33bf6fbd84429689663c315247cdb7fe50f0e33984767fadb6c4132045/633618bb/dZndx-jD4XV2UOupXkjAg5iEFaT4yhAfGRDTw4nBc7wG_TERhrAeNyAX_Cq10tnhbjl0twmYuYzASZfIxuYpJA==?uid=0&filename=cobre.zip&disposition=attachment&hash=jCWWei%2Bfei3Sq7nhcjBXsnAClEAC48p18YrBNaN7Q8E8PWGk2CQjN/oYsPfn5Nnvq/J6bpmRyOJonT3VoXnDag%3D%3D&limit=0&content_type=application%2Fzip&owner_uid=222635455&fsize=17790506046&hid=f8c4b0ea13a37fe1fe3a49c8353e87f3&media_type=compressed&tknv=v2&rtoken=B1DCafoW5pIV&force_default=no&ycrid=na-6b7e9eb9609fc48ad454128615b31bb2-downloader9h&ts=5e9d832db64c0&s=e5cbc8f7eda8e40ef04579a42863d5a1fb88658279a8d34263c72565c5f58edf&pb=U2FsdGVkX19AUKt6DwGHOQSACl2ZPIWjE3GZFW5KV4xPAfNDIWeUAoF2Oux53qOVYVT4QVnTD2L7taQ65FAUbOT4ALNN3CyDkMEMDq8UdRo\""
      ],
      "metadata": {
        "colab": {
          "base_uri": "https://localhost:8080/"
        },
        "id": "ivTZnzeYJCMu",
        "outputId": "c041db8c-bec4-424c-9cf6-a68dccc1f5b9"
      },
      "id": "ivTZnzeYJCMu",
      "execution_count": 6,
      "outputs": [
        {
          "output_type": "stream",
          "name": "stdout",
          "text": [
            "The name is too long, 665 chars total.\n",
            "Trying to shorten...\n",
            "New name is dZndx-jD4XV2UOupXkjAg5iEFaT4yhAfGRDTw4nBc7wG_TERhrAeNyAX_Cq10tnhbjl0twmYuYzASZfIxuYpJA==?uid=0&filename=cobre.zip&disposition=attachment&hash=jCWWei+fei3Sq7nhcjBXsnAClEAC48p18YrBNaN7Q8E8PWGk2CQjN%2FoYsPfn5Nnvq%2FJ6bpmRyOJonT3VoXnDag==&l.\n",
            "--2022-09-29 18:57:13--  https://s101sas.storage.yandex.net/rdisk/0a856c33bf6fbd84429689663c315247cdb7fe50f0e33984767fadb6c4132045/633618bb/dZndx-jD4XV2UOupXkjAg5iEFaT4yhAfGRDTw4nBc7wG_TERhrAeNyAX_Cq10tnhbjl0twmYuYzASZfIxuYpJA==?uid=0&filename=cobre.zip&disposition=attachment&hash=jCWWei%2Bfei3Sq7nhcjBXsnAClEAC48p18YrBNaN7Q8E8PWGk2CQjN/oYsPfn5Nnvq/J6bpmRyOJonT3VoXnDag%3D%3D&limit=0&content_type=application%2Fzip&owner_uid=222635455&fsize=17790506046&hid=f8c4b0ea13a37fe1fe3a49c8353e87f3&media_type=compressed&tknv=v2&rtoken=B1DCafoW5pIV&force_default=no&ycrid=na-6b7e9eb9609fc48ad454128615b31bb2-downloader9h&ts=5e9d832db64c0&s=e5cbc8f7eda8e40ef04579a42863d5a1fb88658279a8d34263c72565c5f58edf&pb=U2FsdGVkX19AUKt6DwGHOQSACl2ZPIWjE3GZFW5KV4xPAfNDIWeUAoF2Oux53qOVYVT4QVnTD2L7taQ65FAUbOT4ALNN3CyDkMEMDq8UdRo\n",
            "Resolving s101sas.storage.yandex.net (s101sas.storage.yandex.net)... 37.9.125.101, 2a02:6b8:c02:ca1:0:41af:37b5:1337\n",
            "Connecting to s101sas.storage.yandex.net (s101sas.storage.yandex.net)|37.9.125.101|:443... connected.\n",
            "HTTP request sent, awaiting response... 200 OK\n",
            "Length: 17790506046 (17G) [application/zip]\n",
            "Saving to: ‘dZndx-jD4XV2UOupXkjAg5iEFaT4yhAfGRDTw4nBc7wG_TERhrAeNyAX_Cq10tnhbjl0twmYuYzASZfIxuYpJA==?uid=0&filename=cobre.zip&disposition=attachment&hash=jCWWei+fei3Sq7nhcjBXsnAClEAC48p18YrBNaN7Q8E8PWGk2CQjN%2FoYsPfn5Nnvq%2FJ6bpmRyOJonT3VoXnDag==&l’\n",
            "\n",
            "dZndx-jD4XV2UOupXkj 100%[===================>]  16.57G  19.5MB/s    in 14m 9s  \n",
            "\n",
            "2022-09-29 19:11:23 (20.0 MB/s) - ‘dZndx-jD4XV2UOupXkjAg5iEFaT4yhAfGRDTw4nBc7wG_TERhrAeNyAX_Cq10tnhbjl0twmYuYzASZfIxuYpJA==?uid=0&filename=cobre.zip&disposition=attachment&hash=jCWWei+fei3Sq7nhcjBXsnAClEAC48p18YrBNaN7Q8E8PWGk2CQjN%2FoYsPfn5Nnvq%2FJ6bpmRyOJonT3VoXnDag==&l’ saved [17790506046/17790506046]\n",
            "\n"
          ]
        }
      ]
    },
    {
      "cell_type": "code",
      "source": [
        "os.rename('dZndx-jD4XV2UOupXkjAg5iEFaT4yhAfGRDTw4nBc7wG_TERhrAeNyAX_Cq10tnhbjl0twmYuYzASZfIxuYpJA==?uid=0&filename=cobre.zip&disposition=attachment&hash=jCWWei+fei3Sq7nhcjBXsnAClEAC48p18YrBNaN7Q8E8PWGk2CQjN%2FoYsPfn5Nnvq%2FJ6bpmRyOJonT3VoXnDag==&l', 'COBRE_ICA_cleaned.zip')"
      ],
      "metadata": {
        "id": "sg4Rj43UQYgC"
      },
      "id": "sg4Rj43UQYgC",
      "execution_count": 7,
      "outputs": []
    },
    {
      "cell_type": "code",
      "source": [
        "data_path ='COBRE_ICA_cleaned/'\n",
        "os.mkdir(data_path)"
      ],
      "metadata": {
        "id": "6XR14Ys9mOlM"
      },
      "id": "6XR14Ys9mOlM",
      "execution_count": 8,
      "outputs": []
    },
    {
      "cell_type": "code",
      "source": [
        "import zipfile\n",
        "count_files =130\n",
        "with zipfile.ZipFile(f\"COBRE_ICA_cleaned.zip\", \"a\") as z:\n",
        "   for file in z.namelist():\n",
        "      if 'fmri.nii' in file:\n",
        "        count_files-=1\n",
        "      if count_files>0:  \n",
        "        z.extract(file, \"COBRE_ICA_cleaned\")"
      ],
      "metadata": {
        "id": "aHbwAJwogJsA"
      },
      "id": "aHbwAJwogJsA",
      "execution_count": 113,
      "outputs": []
    },
    {
      "cell_type": "code",
      "source": [
        "# import shutil\n",
        "# shutil.copytree(\"COBRE_ICA_cleaned\", AUX_DATA_ROOT /'data/COBRE_ICA_cleaned2')"
      ],
      "metadata": {
        "id": "bdmEhIqOhJof"
      },
      "id": "bdmEhIqOhJof",
      "execution_count": 19,
      "outputs": []
    },
    {
      "cell_type": "markdown",
      "source": [
        "## 1. Load Nifty fMRI data with MONAI Datasets"
      ],
      "metadata": {
        "id": "fmGTMeEJpP_7"
      },
      "id": "fmGTMeEJpP_7"
    },
    {
      "cell_type": "code",
      "execution_count": 5,
      "id": "815e535d-16cf-4601-8ace-7ef33efd13b2",
      "metadata": {
        "id": "815e535d-16cf-4601-8ace-7ef33efd13b2"
      },
      "outputs": [],
      "source": [
        "data_path ='COBRE_ICA_cleaned/COBRE_ICA_cleaned'\n",
        "label_path =AUX_DATA_ROOT / \"data/meta_data.tsv\"\n",
        "data_fmriprep_path =Path(data_path)"
      ]
    },
    {
      "cell_type": "code",
      "execution_count": 6,
      "id": "0ab59d4e-f106-4be2-a6e8-22fe17b839bd",
      "metadata": {
        "id": "0ab59d4e-f106-4be2-a6e8-22fe17b839bd"
      },
      "outputs": [],
      "source": [
        "labels_data =pd.read_csv(label_path, delimiter=\"\\t\")\n",
        "labels_data=labels_data.loc[labels_data['Dx'].isin(['No_Known_Disorder', 'Schizophrenia_Strict'])]\n",
        "labels_data=labels_data[['Subjectid','Dx']].drop_duplicates()\n",
        "labels_data['Dx']=labels_data['Dx'].map({'No_Known_Disorder': 0, 'Schizophrenia_Strict' :1})"
      ]
    },
    {
      "cell_type": "code",
      "execution_count": 7,
      "id": "23b74723-eff5-4f08-8e5e-defe33e4d732",
      "metadata": {
        "tags": [],
        "id": "23b74723-eff5-4f08-8e5e-defe33e4d732"
      },
      "outputs": [],
      "source": [
        "images =[]\n",
        "labels =[]\n",
        "for raw in labels_data.iterrows():\n",
        "        subj_id=raw[1]['Subjectid']\n",
        "        label=raw[1]['Dx']\n",
        "        brain_path =Path(f'{data_path}/sub-{subj_id}/fmri.nii')\n",
        "        if brain_path.exists():\n",
        "            images.append(brain_path)\n",
        "            labels.append(label)"
      ]
    },
    {
      "cell_type": "code",
      "source": [
        "len(labels)"
      ],
      "metadata": {
        "colab": {
          "base_uri": "https://localhost:8080/"
        },
        "id": "j-WforuYWM2o",
        "outputId": "17fa706d-7b57-42fc-86b3-8b080c3de919"
      },
      "id": "j-WforuYWM2o",
      "execution_count": 8,
      "outputs": [
        {
          "output_type": "execute_result",
          "data": {
            "text/plain": [
              "118"
            ]
          },
          "metadata": {},
          "execution_count": 8
        }
      ]
    },
    {
      "cell_type": "code",
      "source": [
        "np.mean(labels)"
      ],
      "metadata": {
        "colab": {
          "base_uri": "https://localhost:8080/"
        },
        "id": "TW5UwuIJzb_A",
        "outputId": "26c02ebe-9ef9-4e16-da29-3d5678aa5110"
      },
      "id": "TW5UwuIJzb_A",
      "execution_count": 9,
      "outputs": [
        {
          "output_type": "execute_result",
          "data": {
            "text/plain": [
              "0.4745762711864407"
            ]
          },
          "metadata": {},
          "execution_count": 9
        }
      ]
    },
    {
      "cell_type": "code",
      "execution_count": 10,
      "id": "a1d00dad-c0a2-437d-a833-29e86f161ffe",
      "metadata": {
        "id": "a1d00dad-c0a2-437d-a833-29e86f161ffe"
      },
      "outputs": [],
      "source": [
        "labels = torch.nn.functional.one_hot(torch.as_tensor(labels)).float()"
      ]
    },
    {
      "cell_type": "code",
      "execution_count": 14,
      "id": "47a20f0f-54b9-4544-a026-e6cb0c075646",
      "metadata": {
        "colab": {
          "base_uri": "https://localhost:8080/"
        },
        "id": "47a20f0f-54b9-4544-a026-e6cb0c075646",
        "outputId": "88569535-96f4-453e-fb4a-c171a44d5289"
      },
      "outputs": [
        {
          "output_type": "stream",
          "name": "stdout",
          "text": [
            "<class 'monai.data.meta_tensor.MetaTensor'> (2, 30, 32, 32, 32) tensor([[0., 1.],\n",
            "        [0., 1.]]) torch.Size([2, 2])\n"
          ]
        }
      ],
      "source": [
        "# Define transforms\n",
        "train_transforms = Compose([EnsureChannelFirst(),CropForeground(select_fn=lambda x: x > 0, margin=0),NormalizeIntensity(), Resize((32, 32, 32))])\n",
        "\n",
        "val_transforms = Compose([EnsureChannelFirst(),CropForeground(select_fn=lambda x: x > 0, margin=0),NormalizeIntensity(), Resize((32, 32, 32))])\n",
        "\n",
        "# Define nifti dataset, data loader\n",
        "check_ds = ImageDataset(image_files=images, labels=labels, transform=train_transforms)\n",
        "check_loader = DataLoader(check_ds, batch_size=2, num_workers=2, pin_memory=pin_memory)\n",
        "\n",
        "im, label = monai.utils.misc.first(check_loader)\n",
        "print(type(im), im.shape, label, label.shape)\n",
        "\n",
        "# create a training data loader\n",
        "train_ds = ImageDataset(image_files=images[:-30], labels=labels[:-30], transform=train_transforms)\n",
        "train_loader = DataLoader(train_ds, batch_size=16, shuffle=True,pin_memory=pin_memory)\n",
        "\n",
        "# create a validation data loader\n",
        "val_ds = ImageDataset(image_files=images[-30:], labels=labels[-30:], transform=val_transforms)\n",
        "val_loader = DataLoader(val_ds, batch_size=16, pin_memory=pin_memory)"
      ]
    },
    {
      "cell_type": "code",
      "execution_count": 15,
      "id": "b00d98d5-d4ff-4a1e-97e0-4a78a1844f63",
      "metadata": {
        "id": "b00d98d5-d4ff-4a1e-97e0-4a78a1844f63"
      },
      "outputs": [],
      "source": [
        "example =next(iter(train_loader))"
      ]
    },
    {
      "cell_type": "code",
      "execution_count": 16,
      "id": "b605c2a4-94f5-4f19-b2c2-eb44303dacb4",
      "metadata": {
        "id": "b605c2a4-94f5-4f19-b2c2-eb44303dacb4"
      },
      "outputs": [],
      "source": [
        "def show_slices(image, axis1=\"x\", axis2=\"y\", axis3=\"z\"):\n",
        "    slice_0 = image[round(len(image[0])/2), :, :]\n",
        "    slice_1 = image[:, round(len(image[1])/2), :]\n",
        "    slice_2 = image[:, :, round(len(image[2])/2)]\n",
        "    image = ([slice_0, slice_1, slice_2])\n",
        "    fig, axes = plt.subplots(1, len(image), figsize=[15,15])\n",
        "    for i, slice in enumerate(image):\n",
        "        axes[i].imshow(slice.T, cmap=\"gray\", origin=\"lower\")\n",
        "        axes[0].set(xlabel=axis2, ylabel=axis3)\n",
        "        axes[1].set(xlabel=axis1, ylabel=axis3)\n",
        "        axes[2].set(xlabel=axis1, ylabel=axis2)\n",
        "    plt.show()"
      ]
    },
    {
      "cell_type": "code",
      "execution_count": 17,
      "id": "bd212961-8ff1-44d0-b55c-a6b4749351b0",
      "metadata": {
        "colab": {
          "base_uri": "https://localhost:8080/",
          "height": 308
        },
        "id": "bd212961-8ff1-44d0-b55c-a6b4749351b0",
        "outputId": "57d02ff5-840e-4328-f120-b51bcbf7095a"
      },
      "outputs": [
        {
          "output_type": "display_data",
          "data": {
            "text/plain": [
              "<Figure size 1080x1080 with 3 Axes>"
            ],
            "image/png": "[encoded data removed]"
          },
          "metadata": {
            "needs_background": "light"
          }
        }
      ],
      "source": [
        "show_slices(example[0][0][0])"
      ]
    },
    {
      "cell_type": "markdown",
      "source": [
        "## 2. Create 3D CNN+GRU for classify Schizophrenia vs Control"
      ],
      "metadata": {
        "id": "XhkWP6Pgpla8"
      },
      "id": "XhkWP6Pgpla8"
    },
    {
      "cell_type": "code",
      "execution_count": 18,
      "id": "fecd6f37-a098-4d1e-8a4b-9a11a6cab833",
      "metadata": {
        "id": "fecd6f37-a098-4d1e-8a4b-9a11a6cab833"
      },
      "outputs": [],
      "source": [
        "class Flatten(nn.Module):\n",
        "    def forward(self, input):\n",
        "        return input.view(input.size(0), -1)\n",
        "\n",
        "\n",
        "class ConvEncoder(nn.Module):\n",
        "    def __init__(self, in_channels=1,\n",
        "                 out_channels_list=[32, 64, 128, 256],\n",
        "                 network_type ='Conv',\n",
        "                 act =\"prelu\",\n",
        "                 norm= \"batch\",\n",
        "                 input_shape=(64, 64, 64),\n",
        "                 is_rcnn=False):\n",
        "        super(ConvEncoder, self).__init__()\n",
        "        self.is_rcnn =is_rcnn\n",
        "        convs =[]\n",
        "        for out_channels in out_channels_list:\n",
        "            if network_type ==\"Residual\":\n",
        "                conv = ResidualUnit(\n",
        "                        spatial_dims=3,\n",
        "                        in_channels=in_channels,\n",
        "                        out_channels=out_channels,\n",
        "                        act=act,\n",
        "                        norm=norm,\n",
        "                        kernel_size=2,\n",
        "                        strides =1,\n",
        "                        padding=1\n",
        "                )\n",
        "                conv.add_module(\"maxpool\", torch.nn.MaxPool3d(kernel_size=2))\n",
        "            else:\n",
        "                conv = Convolution(\n",
        "                        spatial_dims=3,\n",
        "                        in_channels=in_channels,\n",
        "                        out_channels=out_channels,\n",
        "                        act=act,\n",
        "                        norm=norm,\n",
        "                        kernel_size=2,\n",
        "                        strides =1,\n",
        "                        padding=1\n",
        "                )\n",
        "                conv.add_module(\"maxpool\", torch.nn.MaxPool3d(kernel_size=2))\n",
        "            in_channels =out_channels\n",
        "            convs.append(conv)\n",
        "            \n",
        "        self.conv_layer =nn.Sequential(*convs)\n",
        "        input_shape = np.array(input_shape)\n",
        "        self.n_flatten_units = int(np.prod(input_shape // (2 ** len(out_channels_list))) * out_channels)\n",
        "        self.faltten = Flatten()\n",
        "        \n",
        "    def forward(self, x):\n",
        "        if self.is_rcnn:\n",
        "            n_objects, seq_length = x.size()[0:2]\n",
        "            x = x.reshape([n_objects * seq_length] + list(x.size()[2:]))\n",
        "            x = torch.unsqueeze(x, axis=1)\n",
        "            x = self.conv_layer(x)\n",
        "            x =self.faltten(x)\n",
        "            x = x.reshape([n_objects, seq_length, -1])\n",
        "        else:\n",
        "            x = self.conv_layer(x)\n",
        "            x =self.faltten(x)\n",
        "        return x        "
      ]
    },
    {
      "cell_type": "code",
      "execution_count": 19,
      "id": "fedcc821-62d8-44d9-b3a3-80a6cd438923",
      "metadata": {
        "id": "fedcc821-62d8-44d9-b3a3-80a6cd438923"
      },
      "outputs": [],
      "source": [
        "class ClfGRU(nn.Module):\n",
        "    def __init__(self, n_latent_units, seq_length, \n",
        "                 hidden_size=128, n_layers=1,\n",
        "                use_states=\"last\"):\n",
        "        super(self.__class__, self).__init__()\n",
        "        self.n_latent_units = n_latent_units\n",
        "        self.seq_length = seq_length\n",
        "        \n",
        "        self.hidden_size = hidden_size\n",
        "        self.n_layers = n_layers\n",
        "        self.gru = nn.GRU(\n",
        "            n_latent_units, \n",
        "            hidden_size, n_layers, \n",
        "            batch_first=True\n",
        "        )\n",
        "        \n",
        "        self.use_states = use_states\n",
        "        if use_states == \"last\":\n",
        "            self.gru_out_size = hidden_size\n",
        "        elif use_states == \"mean\":\n",
        "            self.gru_out_size = hidden_size\n",
        "        elif use_states == \"all\":\n",
        "            self.gru_out_size = hidden_size * seq_length\n",
        "            \n",
        "    def forward(self, x):\n",
        "        out, _ = self.gru(x)\n",
        "        \n",
        "        if self.use_states == \"last\":\n",
        "            out = out[:, -1, :]\n",
        "        elif self.use_states == \"mean\":\n",
        "            out = out.mean(dim=1)\n",
        "        elif self.use_states == \"all\":\n",
        "            out = out.reshape(n_objects, self.hidden_size * seq_length)\n",
        "        \n",
        "        return out"
      ]
    },
    {
      "cell_type": "code",
      "execution_count": 20,
      "id": "418855bc-3f50-41f8-bd5a-fbc0664ed5ad",
      "metadata": {
        "id": "418855bc-3f50-41f8-bd5a-fbc0664ed5ad"
      },
      "outputs": [],
      "source": [
        "class FMRINET(nn.Module):\n",
        "    def __init__(self, in_channels=10,\n",
        "                 out_channels_list=[32, 64, 128, 256],\n",
        "                 network_type ='Conv',\n",
        "                 act =\"relu\",\n",
        "                 norm= \"batch\",\n",
        "                 input_shape=(64, 64, 64),\n",
        "                 n_outputs =2,\n",
        "                 n_fc_units=128,\n",
        "                 hidden_size=128,\n",
        "                 dropout =0.2,\n",
        "                 n_layers=1,\n",
        "                 is_rcnn=False):\n",
        "        super(FMRINET, self).__init__()\n",
        "        self.is_rcnn=is_rcnn\n",
        "        if self.is_rcnn:\n",
        "            self.cnn =ConvEncoder(in_channels=1,\n",
        "                                    out_channels_list=out_channels_list,\n",
        "                                    network_type =network_type,\n",
        "                                    act =act,\n",
        "                                    norm= norm,\n",
        "                                    input_shape=input_shape,\n",
        "                                    is_rcnn=True)\n",
        "            self.gru =ClfGRU(self.cnn.n_flatten_units, \n",
        "                             in_channels,hidden_size=hidden_size,n_layers=n_layers)\n",
        "            self.fc =nn.Sequential(\n",
        "                               nn.Dropout(dropout),\n",
        "                               nn.Linear(self.gru.gru_out_size, n_fc_units),\n",
        "                               nn.ReLU(inplace=True),\n",
        "                               nn.Linear(n_fc_units, n_outputs))\n",
        "            \n",
        "        else:\n",
        "            self.cnn =ConvEncoder(in_channels=in_channels,\n",
        "                                    out_channels_list=out_channels_list,\n",
        "                                    network_type =network_type,\n",
        "                                    act =act,\n",
        "                                    norm= norm,\n",
        "                                    input_shape=input_shape,\n",
        "                                    is_rcnn=False)\n",
        "            self.fc =nn.Sequential(\n",
        "                              #  nn.Dropout(dropout),\n",
        "                               nn.Linear(self.cnn.n_flatten_units, n_fc_units),\n",
        "                               nn.ReLU(inplace=True),\n",
        "                               nn.Linear(n_fc_units, n_outputs))\n",
        "        \n",
        "    def forward(self,x):\n",
        "        if self.is_rcnn:\n",
        "            x =self.cnn(x)\n",
        "            x =self.gru(x)\n",
        "            x =self.fc(x)\n",
        "        else:\n",
        "            x =self.cnn(x)\n",
        "            x =self.fc(x)\n",
        "        return x    "
      ]
    },
    {
      "cell_type": "code",
      "execution_count": 21,
      "id": "f7b58108-58b0-483b-88d2-15aa25db12c7",
      "metadata": {
        "id": "f7b58108-58b0-483b-88d2-15aa25db12c7"
      },
      "outputs": [],
      "source": [
        "model =FMRINET( out_channels_list=[8, 16, 32, 64],\n",
        "                 in_channels=30,\n",
        "                 n_fc_units=64,\n",
        "                 hidden_size=64,\n",
        "                 input_shape=(32, 32, 32),\n",
        "                 dropout =0.1,is_rcnn=True)"
      ]
    },
    {
      "cell_type": "code",
      "execution_count": 22,
      "id": "1a64eacd-41bc-44b9-8cf3-f2d878ddfce2",
      "metadata": {
        "colab": {
          "base_uri": "https://localhost:8080/"
        },
        "id": "1a64eacd-41bc-44b9-8cf3-f2d878ddfce2",
        "outputId": "6483bdba-e227-4579-cc9f-5c78bd2c901b"
      },
      "outputs": [
        {
          "output_type": "execute_result",
          "data": {
            "text/plain": [
              "512"
            ]
          },
          "metadata": {},
          "execution_count": 22
        }
      ],
      "source": [
        "model.cnn.n_flatten_units"
      ]
    },
    {
      "cell_type": "code",
      "source": [
        "model=model.to(device)"
      ],
      "metadata": {
        "id": "Zl5gJTivgs6f"
      },
      "id": "Zl5gJTivgs6f",
      "execution_count": 23,
      "outputs": []
    },
    {
      "cell_type": "code",
      "execution_count": 24,
      "id": "84651cb4-2abf-46f6-acf4-da427c39c786",
      "metadata": {
        "id": "84651cb4-2abf-46f6-acf4-da427c39c786"
      },
      "outputs": [],
      "source": [
        "\n",
        "loss_function = torch.nn.CrossEntropyLoss()\n",
        "optimizer = torch.optim.Adam(model.parameters(), lr=0.0001)"
      ]
    },
    {
      "cell_type": "code",
      "source": [
        "def plot_loss_and_accuracy(loss_history, train_accuracy, val_accuracy, clear_output=True):\n",
        "    if clear_output:\n",
        "        display.clear_output(wait=True)\n",
        "    fig, ax = plt.subplots(1, 2, figsize=(16, 6))\n",
        "    if loss_history:\n",
        "        ax[0].semilogy(loss_history)\n",
        "        ax[0].set_title('Training loss')\n",
        "        ax[0].set_xlabel('# batches processed')\n",
        "        ax[0].set_ylabel('loss value')\n",
        "    \n",
        "    if len(train_accuracy) > 0:\n",
        "        ax[1].plot(train_accuracy, '*-b', label='train')\n",
        "        ax[1].plot(val_accuracy, '*-r', label='test')\n",
        "        ax[1].set_title('Accuracy')\n",
        "        ax[1].legend()\n",
        "        ax[1].set_xlabel('# epochs processed')\n",
        "        ax[1].set_ylabel('accuracy value')\n",
        "    \n",
        "    plt.show()"
      ],
      "metadata": {
        "id": "YthoFoxcODzk"
      },
      "id": "YthoFoxcODzk",
      "execution_count": 25,
      "outputs": []
    },
    {
      "cell_type": "code",
      "source": [
        "torch.manual_seed(42)\n",
        "torch.cuda.manual_seed(42)\n",
        "np.random.seed(42)\n",
        "random.seed(42)\n",
        "torch.backends.cudnn.enabled=False\n",
        "torch.backends.cudnn.deterministic=True"
      ],
      "metadata": {
        "id": "SLDh_2drT-Th"
      },
      "id": "SLDh_2drT-Th",
      "execution_count": 26,
      "outputs": []
    },
    {
      "cell_type": "code",
      "execution_count": null,
      "id": "8e6dc4a5-4039-4f15-9e02-e8dcb0fbec60",
      "metadata": {
        "colab": {
          "base_uri": "https://localhost:8080/"
        },
        "id": "8e6dc4a5-4039-4f15-9e02-e8dcb0fbec60",
        "outputId": "34c007b4-c533-4569-8a17-b3d0e93e0ae8"
      },
      "outputs": [
        {
          "output_type": "stream",
          "name": "stdout",
          "text": [
            "----------\n",
            "epoch 1/6\n",
            "epoch 1 average loss: 0.6972\n",
            "Current epoch: 1 current train accuracy: 0.4659 \n"
          ]
        }
      ],
      "source": [
        " # start a typical PyTorch training\n",
        "val_interval = 1\n",
        "best_metric = -1\n",
        "best_metric_epoch = -1  \n",
        "train_loss_values, val_loss_values, train_accuracies, val_accuracies = [],[],[],[]\n",
        "writer = SummaryWriter()\n",
        "max_epochs = 6\n",
        "\n",
        "for epoch in range(max_epochs):\n",
        "    print(\"-\" * 10)\n",
        "    print(f\"epoch {epoch + 1}/{max_epochs}\")\n",
        "    model.train()\n",
        "    train_loss,val_loss = 0, 0\n",
        "    step = 0\n",
        "\n",
        "    num_correct = 0.0\n",
        "    metric_count = 0\n",
        "    \n",
        "    for batch_data in train_loader:\n",
        "        step += 1\n",
        "        inputs, labels = batch_data[0].to(device), batch_data[1].to(device)\n",
        "        optimizer.zero_grad()\n",
        "        outputs = model(inputs)\n",
        " \n",
        "        loss = loss_function(outputs, labels)\n",
        "        loss.backward()\n",
        "        optimizer.step()\n",
        "        train_loss += loss.item()\n",
        "        epoch_len = len(train_ds) // train_loader.batch_size\n",
        "        \n",
        "        value = torch.eq(outputs.argmax(dim=1), labels.argmax(dim=1))\n",
        "        metric_count += len(value)\n",
        "        num_correct += value.sum().item()\n",
        "                \n",
        "        # print(f\"{step}/{epoch_len}, train_loss: {loss.item():.4f}\")\n",
        "        writer.add_scalar(\"train_loss\", loss.item(), epoch_len * epoch + step)\n",
        "\n",
        "    train_loss /= step\n",
        "    train_loss_values.append(train_loss)\n",
        "    train_metric = num_correct / metric_count\n",
        "    train_accuracies.append(train_metric)\n",
        "    print(f\"epoch {epoch + 1} average loss: {train_loss:.4f}\")\n",
        "    print(f\"Current epoch: {epoch+1} current train accuracy: {train_metric:.4f} \")\n",
        "    writer.add_scalar(\"train_accuracy\", train_metric, epoch + 1)\n",
        "    \n",
        "    if (epoch + 1) % val_interval == 0:\n",
        "        model.eval()\n",
        "        with torch.no_grad():\n",
        "            num_correct = 0.0\n",
        "            metric_count = 0\n",
        "            for val_data in val_loader:\n",
        "                    val_images, val_labels = val_data[0].to(device), val_data[1].to(device)\n",
        "                    val_outputs = model(val_images)\n",
        "                    value = torch.eq(val_outputs.argmax(dim=1), val_labels.argmax(dim=1))\n",
        "                    metric_count += len(value)\n",
        "                    num_correct += value.sum().item()\n",
        "\n",
        "            val_metric = num_correct / metric_count\n",
        "            val_accuracies.append(val_metric)\n",
        "\n",
        "            if val_metric > best_metric:\n",
        "                best_metric = val_metric\n",
        "                best_metric_epoch = epoch + 1\n",
        "                torch.save(model.state_dict(), \"best_metric_model_classification3d_array.pth\")\n",
        "                print(\"saved new best metric model\")\n",
        "\n",
        "            print(f\"Current epoch: {epoch+1} current accuracy: {val_metric:.4f} \")\n",
        "            print(f\"Best accuracy: {best_metric:.4f} at epoch {best_metric_epoch}\")\n",
        "            writer.add_scalar(\"val_accuracy\", val_metric, epoch + 1)\n",
        "        plot_loss_and_accuracy(train_loss_values,train_accuracies, val_accuracies, clear_output=True)\n",
        "print(f\"Training completed, best_metric: {best_metric:.4f} at epoch: {best_metric_epoch}\")\n",
        "writer.close()"
      ]
    },
    {
      "cell_type": "code",
      "source": [],
      "metadata": {
        "id": "osS8Aplmvynz"
      },
      "id": "osS8Aplmvynz",
      "execution_count": null,
      "outputs": []
    },
    {
      "cell_type": "markdown",
      "source": [
        "## TO DO: Try to improve the quality of the classifacation ( Schizophrenia VS Control)\n",
        "  1. Try ResidualUnit Blocks, LSTM block , different numbers of blocks\n",
        "  2. Add schedulers + hyperparameter optimization (lr, weight decay)\n",
        "  3. Add augmentations from MONAI\n",
        "  4. Write report with comparison of all methods +code \n",
        "\n",
        "Second part:\n",
        "  1. Extract ROI from fMRI, build connectivity  matrices\n",
        "  2. Train 2D CNN model from MONAI on connectivity  matrices\n",
        "  3. Write report with comparison of all methods +code "
      ],
      "metadata": {
        "id": "KIPnA2LyqDRD"
      },
      "id": "KIPnA2LyqDRD"
    }
  ],
  "metadata": {
    "kernelspec": {
      "display_name": "Python 3 (ipykernel)",
      "language": "python",
      "name": "python3"
    },
    "language_info": {
      "codemirror_mode": {
        "name": "ipython",
        "version": 3
      },
      "file_extension": ".py",
      "mimetype": "text/x-python",
      "name": "python",
      "nbconvert_exporter": "python",
      "pygments_lexer": "ipython3",
      "version": "3.7.13"
    },
    "colab": {
      "provenance": [],
      "collapsed_sections": []
    },
    "accelerator": "GPU"
  },
  "nbformat": 4,
  "nbformat_minor": 5
}