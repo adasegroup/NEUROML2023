{
 "cells": [
  {
   "cell_type": "markdown",
   "metadata": {
    "slideshow": {
     "slide_type": "slide"
    }
   },
   "source": [
    "### MRI data analysis, sources databases, tools and QC\n",
    "\n",
    "####  PLAN:\n",
    "\n",
    "1) **MRI data formats** \\\n",
    "2) **accessing data voxel and meta data** \\\n",
    "3) **transformations** \\\n",
    "4) **preprocessing** \\\n",
    "5) **visualization** \n"
   ]
  },
  {
   "cell_type": "code",
   "execution_count": null,
   "metadata": {
    "slideshow": {
     "slide_type": "fragment"
    }
   },
   "outputs": [],
   "source": [
    "from pydicom.data import get_testdata_files\n",
    "import matplotlib.pyplot as plt\n",
    "import warnings\n",
    "warnings.filterwarnings('ignore')\n",
    "from ipywidgets import interact, interactive, fixed, interact_manual\n",
    "from IPython.display import Image\n",
    "import ipywidgets as widgets\n",
    "import nibabel.freesurfer.mghformat as mgh\n",
    "import nibabel as nib\n",
    "import pydicom\n",
    "from glob import glob\n",
    "import os\n",
    "import numpy as np\n",
    "from nilearn.input_data import NiftiMasker\n",
    "from nilearn import plotting\n",
    "%matplotlib inline\n"
   ]
  },
  {
   "cell_type": "markdown",
   "metadata": {
    "slideshow": {
     "slide_type": "slide"
    }
   },
   "source": [
    "#### 1) MRI File Formats "
   ]
  },
  {
   "cell_type": "markdown",
   "metadata": {
    "slideshow": {
     "slide_type": "subslide"
    }
   },
   "source": [
    "All volume-based formats store 3D or 4D arrays of voxels in some fashion with a variety of additional meta-data. Anatomical images are typically 3D while EPIs are typically 4D (x,y,z, and time).\n"
   ]
  },
  {
   "cell_type": "code",
   "execution_count": null,
   "metadata": {
    "slideshow": {
     "slide_type": "fragment"
    }
   },
   "outputs": [],
   "source": [
    "Image(filename = \"/workspace/assets/voxel.png\", width=1000, height=800)"
   ]
  },
  {
   "cell_type": "markdown",
   "metadata": {
    "slideshow": {
     "slide_type": "subslide"
    }
   },
   "source": [
    "**voxel:** A three-dimensional pixel and the basic unit of spatial measurement in MRI."
   ]
  },
  {
   "cell_type": "markdown",
   "metadata": {
    "slideshow": {
     "slide_type": "subslide"
    }
   },
   "source": [
    "**volume:** The three dimensional array covering the brain. Volumes are composed of voxels\n",
    "All volume files contain both meta-data and voxels. The meta-data is just a set of information about the file’s contents while the voxels are a 3D or 4D array of values.\n",
    "\n",
    "**slice:** A two-dimensional 'view' of the three-dimensional volume obtained by taking all of the elements in two of the dimensions for a fixed location in the third dimension.\n",
    "\n",
    "**Timecourse or Timeseries:** a set of numbers representing a measurement (like BOLD activation) taken over time.\n",
    "\n",
    "Here are the most typical file formats of neuroimaging data:\n",
    "1) *DICOM (.dcm, .ima)* \\\n",
    "2) *NIFTI (.nii/nii.gz, gii.gz)* \\\n",
    "3) *MGH (.mgh, .mgz)* \\\n",
    "4) Custom (.dtseries, .label, .surf)"
   ]
  },
  {
   "cell_type": "markdown",
   "metadata": {
    "slideshow": {
     "slide_type": "slide"
    }
   },
   "source": [
    "#### DICOM file format"
   ]
  },
  {
   "cell_type": "code",
   "execution_count": null,
   "metadata": {
    "slideshow": {
     "slide_type": "fragment"
    }
   },
   "outputs": [],
   "source": [
    "# Single slice of Brain MRI\n",
    "\n",
    "dcm_path = '/workspace/data/Brats_kaggle/DICOM/00008/T1w/'\n",
    "g = glob(os.path.join(dcm_path, '*'))\n",
    "!tree ./data/Brats_kaggle/DICOM/ --filelimit 2\n",
    "\n",
    "# Print out the first 5 file names to verify we're in the right folder.\n",
    "\n",
    "print('Total of %d DICOM images.\\nFirst 5 filenames:' % len(g))\n",
    "print('Standart DICOM directory tree: \\n')\n",
    "print('\\n'.join(g[:]))"
   ]
  },
  {
   "cell_type": "markdown",
   "metadata": {},
   "source": [
    "Common MRI DICOM sctructure"
   ]
  },
  {
   "cell_type": "code",
   "execution_count": null,
   "metadata": {},
   "outputs": [],
   "source": [
    "dcm_file = pydicom.dcmread(os.path.join(dcm_path, 'Image-20.dcm'))\n",
    "plt.imshow(dcm_file.pixel_array, cmap='gray', origin='upper')\n",
    "rows = int(dcm_file.Rows)\n",
    "cols = int(dcm_file.Columns)\n",
    "print('Dimension of one dcm file:', dcm_file.pixel_array.shape)\n",
    "plt.show()"
   ]
  },
  {
   "cell_type": "markdown",
   "metadata": {
    "slideshow": {
     "slide_type": "slide"
    }
   },
   "source": [
    "**Lets stack all DICOM's and plot em aall:**"
   ]
  },
  {
   "cell_type": "code",
   "execution_count": null,
   "metadata": {
    "slideshow": {
     "slide_type": "subslide"
    }
   },
   "outputs": [],
   "source": [
    "def load_scan(path):\n",
    "    slices = [pydicom.dcmread(dcm_path + '/' + s) for s in os.listdir(dcm_path)]\n",
    "    slices.sort(key = lambda x: int(x.InstanceNumber))\n",
    "    try:\n",
    "        slice_thickness = np.abs(slices[0].ImagePositionPatient[2] - slices[1].ImagePositionPatient[2])\n",
    "    except:\n",
    "        slice_thickness = np.abs(slices[0].SliceLocation - slices[1].SliceLocation)\n",
    "        \n",
    "    for s in slices:\n",
    "        s.SliceThickness = slice_thickness\n",
    "    \n",
    "    image = np.stack([s.pixel_array for s in slices])\n",
    "    return np.array(image)\n"
   ]
  },
  {
   "cell_type": "code",
   "execution_count": null,
   "metadata": {
    "slideshow": {
     "slide_type": "subslide"
    }
   },
   "outputs": [],
   "source": [
    "dcm_stack = load_scan(dcm_path)\n",
    "rows=3\n",
    "cols=3\n",
    "start_with=5\n",
    "show_every=3\n",
    "fig,ax = plt.subplots(rows,cols,figsize=[15,15])\n",
    "for i in range(rows*cols):\n",
    "    ind = start_with + i*show_every\n",
    "    ax[int(i/rows),int(i % rows)].imshow(dcm_stack[ind],cmap='gray', origin=\"upper\")\n",
    "    ax[int(i/rows),int(i % rows)].set_title('slice %d' % ind)\n",
    "    ax[int(i/rows),int(i % rows)].set_xlabel('xlabel')\n",
    "    ax[int(i/rows),int(i % rows)].set_ylabel('ylabel')\n",
    "plt.show()\n"
   ]
  },
  {
   "cell_type": "markdown",
   "metadata": {
    "slideshow": {
     "slide_type": "subslide"
    }
   },
   "source": [
    "**DICOM Headers**\n",
    "\n",
    "Another good way to look at the meta-data in a volume file is to load it with the relevant programming environment and examine the data-structures there. Here are a few examples.\n",
    "Accordingly, we need to be able to, at a minimum, store some amount of information about the coordinate system employed in any MRI volume file, and ideally some amount of information about how to precisely align the brain to some standard orientation."
   ]
  },
  {
   "cell_type": "code",
   "execution_count": null,
   "metadata": {
    "slideshow": {
     "slide_type": "fragment"
    }
   },
   "outputs": [],
   "source": [
    "pat_name = dcm_file.PatientName\n",
    "display_name = pat_name.family_name + \", \" + pat_name.given_name\n",
    "print(\"Patient id.......:\", dcm_file.PatientID)\n",
    "print(\"Modality.........:\", dcm_file.Modality)\n",
    "print(\"Rows.............:\", dcm_file.Rows)\n",
    "print(\"Columns..........:\", dcm_file.Columns)\n",
    "print(\"Pixel Spacing....:\", dcm_file.PixelSpacing)\n",
    "print(\"Slide Thickness.:\", dcm_file.SliceThickness)\n",
    "print(\"Patient Position.:\", dcm_file.PatientPosition)"
   ]
  },
  {
   "cell_type": "code",
   "execution_count": null,
   "metadata": {
    "slideshow": {
     "slide_type": "subslide"
    }
   },
   "outputs": [],
   "source": [
    "#dcm_header = pydicom.dcmread(dcm_file)\n",
    "dcm_file"
   ]
  },
  {
   "cell_type": "markdown",
   "metadata": {},
   "source": [
    "#### Data manipulations"
   ]
  },
  {
   "cell_type": "markdown",
   "metadata": {},
   "source": [
    "Assume that you recieved new dicom from hospital or downloaded challenge data and you need to convert to convinient NIFTI, let's review the tool distinctive from simple one represented above:"
   ]
  },
  {
   "cell_type": "markdown",
   "metadata": {},
   "source": [
    "**dcm2niix** \\\n",
    "Robust .dcm to nii/nii.gz converter. Params *%i* *%n* *%p* stands for patient ID, subject name, protocol name DICOM header keys. Try to run with params %p_%t_%s \\\n",
    "\n",
    "https://www.nitrc.org/plugins/mwiki/index.php/dcm2nii:MainPage#General_Usage"
   ]
  },
  {
   "cell_type": "code",
   "execution_count": null,
   "metadata": {
    "tags": []
   },
   "outputs": [],
   "source": [
    "!dcm2niix -o /workspace/ -f %i_%n_%p -z y ./data/Brats_kaggle/DICOM/00008/T1w"
   ]
  },
  {
   "cell_type": "markdown",
   "metadata": {},
   "source": [
    "Plotting results of convertation:"
   ]
  },
  {
   "cell_type": "code",
   "execution_count": null,
   "metadata": {},
   "outputs": [],
   "source": [
    "plotting.plot_anat('/workspace/00008_00008_T1w.nii.gz', bg_img=None)"
   ]
  },
  {
   "cell_type": "markdown",
   "metadata": {},
   "source": [
    "#### Nifti File Format"
   ]
  },
  {
   "cell_type": "markdown",
   "metadata": {},
   "source": [
    "The Neuroimaging Informatics Technology Initiative (nifti) is format to store radiological information, the first three dimensions are reserved to define the three spatial dimensions — x, y and z —, while the fourth dimension is reserved to define the time points — t. The remaining dimensions, from fifth to seventh, are for other uses. The fifth dimension, however, can still have some predefined uses, such as to store voxel-specific distributional parameters or to hold vector-based data."
   ]
  },
  {
   "cell_type": "code",
   "execution_count": null,
   "metadata": {},
   "outputs": [],
   "source": [
    "nii_file = nib.load('/workspace/00008_00008_T1w.nii.gz')"
   ]
  },
  {
   "cell_type": "markdown",
   "metadata": {},
   "source": [
    "#### Nifti Header"
   ]
  },
  {
   "cell_type": "code",
   "execution_count": null,
   "metadata": {},
   "outputs": [],
   "source": [
    "nii_header = nii_file.header\n",
    "print(\"Image dimensions...........................:\", nii_header['dim'])\n",
    "print(\"Voxel size and time interval...............:\", nii_header['pixdim'])\n",
    "print(\"Slice Order................................:\", nii_header['slice_code'])\n",
    "print(\"Human readable text........................:\", nii_header['descrip'])\n",
    "print(\"Three rows of sform affine transformation..:\"'\\n', nii_header['srow_x'],'\\n', nii_header['srow_y'],'\\n', nii_header['srow_z'])\n"
   ]
  },
  {
   "cell_type": "markdown",
   "metadata": {
    "slideshow": {
     "slide_type": "slide"
    }
   },
   "source": [
    "#### MGH File Format"
   ]
  },
  {
   "cell_type": "markdown",
   "metadata": {
    "slideshow": {
     "slide_type": "subslide"
    }
   },
   "source": [
    "**MGH File Format** is a default format of *freesurfer* preprocessing software. That can do the following"
   ]
  },
  {
   "cell_type": "code",
   "execution_count": null,
   "metadata": {
    "slideshow": {
     "slide_type": "fragment"
    }
   },
   "outputs": [],
   "source": [
    "Image(filename = \"/workspace/assets/freesurfer.png\", width=1000, height=800)"
   ]
  },
  {
   "cell_type": "code",
   "execution_count": null,
   "metadata": {
    "slideshow": {
     "slide_type": "subslide"
    }
   },
   "outputs": [],
   "source": [
    "mgh_file = mgh.load('./data/freesurfer_preproc/100206/mri/T1.mgz')\n",
    "mgh_file.get_fdata().shape\n"
   ]
  },
  {
   "cell_type": "code",
   "execution_count": null,
   "metadata": {
    "slideshow": {
     "slide_type": "subslide"
    }
   },
   "outputs": [],
   "source": [
    "# Define plot function\n",
    "def show_slices(image, axis1=\"x\", axis2=\"y\", axis3=\"z\"):\n",
    "    slice_0 = image[round(len(image[0])/2), :, :]\n",
    "    slice_1 = image[:, round(len(image[1])/2), :]\n",
    "    slice_2 = image[:, :, round(len(image[2])/2)]\n",
    "    image = ([slice_0, slice_1, slice_2])\n",
    "    fig, axes = plt.subplots(1, len(image), figsize=[15,15])\n",
    "    for i, slice in enumerate(image):\n",
    "        axes[i].imshow(slice.T, cmap=\"gray\", origin=\"upper\")\n",
    "        axes[0].set(xlabel=axis2, ylabel=axis3)\n",
    "        axes[1].set(xlabel=axis1, ylabel=axis3)\n",
    "        axes[2].set(xlabel=axis1, ylabel=axis2)\n",
    "    plt.show()"
   ]
  },
  {
   "cell_type": "code",
   "execution_count": null,
   "metadata": {
    "slideshow": {
     "slide_type": "fragment"
    }
   },
   "outputs": [],
   "source": [
    "mgh_image = np.array(mgh_file.dataobj).astype(np.float64)\n",
    "show_slices(mgh_image)"
   ]
  },
  {
   "cell_type": "markdown",
   "metadata": {
    "slideshow": {
     "slide_type": "subslide"
    }
   },
   "source": [
    "**MGH Header**"
   ]
  },
  {
   "cell_type": "code",
   "execution_count": null,
   "metadata": {
    "slideshow": {
     "slide_type": "fragment"
    }
   },
   "outputs": [],
   "source": [
    "mgh_header = mgh_file.header\n",
    "print(\"Image dimensions........:\", mgh_header['dims'])\n",
    "print(\"Orientation matrix...: \"'\\n', mgh_header.get_affine())"
   ]
  },
  {
   "cell_type": "code",
   "execution_count": null,
   "metadata": {},
   "outputs": [],
   "source": [
    "plotting.plot_anat(mgh_file, bg_img=None)"
   ]
  },
  {
   "cell_type": "code",
   "execution_count": null,
   "metadata": {},
   "outputs": [],
   "source": [
    "Image(filename = \"/workspace/assets/Orientation.png\", width=600, height=800)"
   ]
  },
  {
   "cell_type": "markdown",
   "metadata": {},
   "source": [
    "DICOM patient coordinate and Nifti coodrinate system when Patient is Head First Supine. The arrows of axes indicate the positive directions, LPS for DICOM and RAS for Nifti. For Dicom images, the origin (0,0,0) refers to magnet isocenter.     \n",
    "\n"
   ]
  },
  {
   "cell_type": "markdown",
   "metadata": {
    "slideshow": {
     "slide_type": "fragment"
    }
   },
   "source": [
    "*Voxel size* and *Pixel spacing* are important as we for preprocessing we can use only isomorphic voxel"
   ]
  },
  {
   "cell_type": "markdown",
   "metadata": {
    "slideshow": {
     "slide_type": "slide"
    }
   },
   "source": [
    "**BIDS** Brain Imaging Data Structure. \\\n",
    "Simplify representation of DICOM neuroimaging data and grants huge advantages for experiments and version control of dataset. Moreover, reduces dataset storage range."
   ]
  },
  {
   "cell_type": "code",
   "execution_count": null,
   "metadata": {
    "slideshow": {
     "slide_type": "fragment"
    }
   },
   "outputs": [],
   "source": [
    "Image(filename = \"/workspace/assets/BIDS.png\", width=800, height=800)"
   ]
  },
  {
   "cell_type": "markdown",
   "metadata": {
    "slideshow": {
     "slide_type": "slide"
    }
   },
   "source": [
    "There is a few robust DICOM converters:\n",
    "> **HeudiConv**\n",
    "\n",
    "> **dcm2bids**\n",
    "\n",
    "They both use DICOM headers, to distinquish sequence protocols. So fully anonomized DICOMs can't be converted using this software.\n",
    "Let's look how *heudiconv* runs:\n",
    "First you should implement heudiconv.py.\n",
    "The only required function for a heuristic, *infotodict* is used to both define the conversion outputs and specify the criteria for scan to output association. Conversion outputs are defined as keys, a tuple consisting of a template path used for the basis of outputs, as well as a tuple of output types. Valid types include nii, nii.gz, and dicom."
   ]
  },
  {
   "cell_type": "code",
   "execution_count": null,
   "metadata": {
    "slideshow": {
     "slide_type": "fragment"
    },
    "tags": []
   },
   "outputs": [],
   "source": [
    "!/opt/miniconda-latest/envs/neuro/bin/heudiconv -d /workspace/data/Brats_kaggle/DICOM/{subject}/*/* \\\n",
    "    -f /workspace/heuristic.py \\\n",
    "    -s 00008 \\\n",
    "    -c dcm2niix \\\n",
    "    -b --overwrite \\\n",
    "    -o /workspace/BIDS > /workspace/heudiconv_log 2>&1"
   ]
  },
  {
   "cell_type": "markdown",
   "metadata": {
    "slideshow": {
     "slide_type": "slide"
    }
   },
   "source": [
    "Heudiconv output BIDS directory tree:"
   ]
  },
  {
   "cell_type": "code",
   "execution_count": null,
   "metadata": {
    "slideshow": {
     "slide_type": "fragment"
    }
   },
   "outputs": [],
   "source": [
    "!tree /workspace/BIDS"
   ]
  },
  {
   "cell_type": "code",
   "execution_count": null,
   "metadata": {},
   "outputs": [],
   "source": [
    "!rm -r /workspace/BIDS/*\n",
    "!rm -r /workspace/BIDS/.heudiconv"
   ]
  },
  {
   "cell_type": "code",
   "execution_count": null,
   "metadata": {},
   "outputs": [],
   "source": []
  }
 ],
 "metadata": {
  "celltoolbar": "Slideshow",
  "kernelspec": {
   "display_name": "Python 3 (ipykernel)",
   "language": "python",
   "name": "python3"
  },
  "language_info": {
   "codemirror_mode": {
    "name": "ipython",
    "version": 3
   },
   "file_extension": ".py",
   "mimetype": "text/x-python",
   "name": "python",
   "nbconvert_exporter": "python",
   "pygments_lexer": "ipython3",
   "version": "3.10.6"
  }
 },
 "nbformat": 4,
 "nbformat_minor": 4
}
