{
 "cells": [
  {
   "cell_type": "markdown",
   "metadata": {
    "slideshow": {
     "slide_type": "slide"
    }
   },
   "source": [
    "#### Transformations"
   ]
  },
  {
   "cell_type": "markdown",
   "metadata": {
    "slideshow": {
     "slide_type": "subslide"
    }
   },
   "source": [
    "Before you can start with a second level analysis you are facing the problem that all your output from the first level analysis are still in their subject specific subject-space. Because of the huge differences in brain size and cortical structure, it is very important to transform the data of each subject from its individual subject-space into a common standardized reference-space. This process of transformation is what we call normalization and it consists of a rigid body transformation (translations and rotations) as well as of a affine transformation (zooms and shears). The most common template that subject data is normalized to is the MNI template."
   ]
  },
  {
   "cell_type": "markdown",
   "metadata": {
    "slideshow": {
     "slide_type": "fragment"
    }
   },
   "source": [
    "**MNI Space and templates**\n",
    "\n",
    "*The Montreal Neurological Institute (MNI)* has published several “template brains,” which are generic brain shapes created by averaging together hundreds of individual anatomical scans. There are linear and non linear templates.\n",
    "\n",
    "https://www.lead-dbs.org/about-the-mni-spaces/"
   ]
  },
  {
   "cell_type": "code",
   "execution_count": null,
   "metadata": {
    "slideshow": {
     "slide_type": "fragment"
    }
   },
   "outputs": [],
   "source": [
    "from IPython.display import Image\n",
    "Image(filename = \"/workspace/assets/atlases.png\", width=1000, height=800)"
   ]
  },
  {
   "cell_type": "code",
   "execution_count": null,
   "metadata": {
    "slideshow": {
     "slide_type": "subslide"
    }
   },
   "outputs": [],
   "source": [
    "import warnings\n",
    "warnings.filterwarnings('ignore')\n",
    "import nilearn\n",
    "from nilearn import plotting\n",
    "from nilearn import image\n",
    "from nilearn.datasets import load_mni152_template\n",
    "import nibabel as nib\n",
    "%matplotlib inline"
   ]
  },
  {
   "cell_type": "markdown",
   "metadata": {
    "slideshow": {
     "slide_type": "subslide"
    }
   },
   "source": [
    "You can think of the image affine as a combination of a series of transformations to go from voxel coordinates to mm coordinates in terms of the magnet isocenter. Here is the EPI affine broken down into a series of transformations, with the results shown on the localizer image:"
   ]
  },
  {
   "cell_type": "code",
   "execution_count": null,
   "metadata": {
    "slideshow": {
     "slide_type": "fragment"
    }
   },
   "outputs": [],
   "source": [
    "Image(filename = \"/workspace/assets/affine_1.png\", width=200, height=100)"
   ]
  },
  {
   "cell_type": "markdown",
   "metadata": {
    "slideshow": {
     "slide_type": "slide"
    }
   },
   "source": [
    "#### Affine transformations and rigid transformations"
   ]
  },
  {
   "cell_type": "markdown",
   "metadata": {
    "slideshow": {
     "slide_type": "subslide"
    }
   },
   "source": [
    "Why affine qform and sform tranformations are important?\n",
    "*sform* allows full 12 parameter affine transfrom to be encoded, however *qform* 9 parameter is limited to encoding\n",
    "translations, rotations (via a quaternion representation) and isotropic zooms."
   ]
  },
  {
   "cell_type": "markdown",
   "metadata": {},
   "source": [
    "https://www.lead-dbs.org/about-the-mni-spaces/"
   ]
  },
  {
   "cell_type": "code",
   "execution_count": null,
   "metadata": {},
   "outputs": [],
   "source": [
    "!wget --progress=bar:force:noscroll -P /tmp http://www.bic.mni.mcgill.ca/~vfonov/icbm/2009/mni_icbm152_nlin_sym_09a_nifti.zip && \\\n",
    "\tmkdir -p /workspace/data/mni_icbm152_nlin_sym_09a && \\\n",
    "\tunzip -o -d /workspace/data /tmp/mni_icbm152_nlin_sym_09a_nifti.zip && \\\n",
    "\trm -r /tmp/mni_icbm152_nlin_sym_09a_nifti.zip"
   ]
  },
  {
   "cell_type": "code",
   "execution_count": null,
   "metadata": {
    "slideshow": {
     "slide_type": "fragment"
    }
   },
   "outputs": [],
   "source": [
    "nii_file = nib.load('/workspace/data/raw/100206/unprocessed/3T/T1w_MPR1/100206_3T_T1w_MPR1.nii.gz')\n",
    "# Load ing MNI template\n",
    "mni_space_template = nib.load('/workspace/data/mni_icbm152_nlin_sym_09a/mni_icbm152_t1_tal_nlin_sym_09a.nii')  # Full template\n",
    "\n",
    "nilearn.plotting.plot_anat(nii_file,\n",
    "                           title='Nifti T1 Native Space', annotate=True)\n",
    "\n",
    "nilearn.plotting.plot_anat(mni_space_template,\n",
    "                           title='Nifti MNI152 Space')\n",
    "\n",
    "diff = nilearn.plotting.plot_anat(nii_file,\n",
    "                           title='Space displacement')\n",
    "diff.add_contours(mni_space_template, threshold=70)\n"
   ]
  },
  {
   "cell_type": "markdown",
   "metadata": {
    "slideshow": {
     "slide_type": "slide"
    }
   },
   "source": [
    "Let's check how using qform we can translate images. \\\n",
    "First: Check images orientation between MNI template and out T1 image."
   ]
  },
  {
   "cell_type": "markdown",
   "metadata": {
    "slideshow": {
     "slide_type": "fragment"
    }
   },
   "source": [
    "print(\"\"\"Orintation comparison before transform:\n",
    "- T1 native image orientation:\\n {0}\n",
    "- MNI Space template brain:\\n {1}\n",
    "\"\"\".format(nii_file.affine, mni_space_template.affine))\n"
   ]
  },
  {
   "cell_type": "markdown",
   "metadata": {
    "slideshow": {
     "slide_type": "slide"
    }
   },
   "source": [
    "Second: Check shapes of image"
   ]
  },
  {
   "cell_type": "code",
   "execution_count": null,
   "metadata": {
    "slideshow": {
     "slide_type": "fragment"
    }
   },
   "outputs": [],
   "source": [
    "print(\"\"\"Shape comparison before transform:\n",
    "- T1 native image affine:\\n {0}\n",
    "- MNI Space template brain:\\n {1}\n",
    "\"\"\".format(nii_file.shape, mni_space_template.shape))\n"
   ]
  },
  {
   "cell_type": "markdown",
   "metadata": {
    "slideshow": {
     "slide_type": "slide"
    }
   },
   "source": [
    "Third: use from_matvec method, to create 4x4 matrix from 3x3 vector to add translation of translate to dot with qform header"
   ]
  },
  {
   "cell_type": "code",
   "execution_count": null,
   "metadata": {
    "slideshow": {
     "slide_type": "fragment"
    }
   },
   "outputs": [],
   "source": [
    "from nibabel.affines import from_matvec, to_matvec, apply_affine\n",
    "import numpy as np\n",
    "import matplotlib.pyplot as plt\n",
    "\n",
    "reflect = np.array([[-1, 0, 0],\n",
    "                    [0, 1, 0],\n",
    "                    [0, 0, 1]])\n",
    "\n",
    "translate_affine = from_matvec(reflect, [250, 0, 0])  # shift 50 y direction\n",
    "translate_affine"
   ]
  },
  {
   "cell_type": "code",
   "execution_count": null,
   "metadata": {
    "slideshow": {
     "slide_type": "fragment"
    }
   },
   "outputs": [],
   "source": [
    "transformed = np.dot(nii_file.get_qform(), translate_affine)\n",
    "#nii_file.affine = transformed\n",
    "print(transformed)"
   ]
  },
  {
   "cell_type": "code",
   "execution_count": null,
   "metadata": {},
   "outputs": [],
   "source": [
    "print(nii_file.get_qform())"
   ]
  },
  {
   "cell_type": "markdown",
   "metadata": {
    "slideshow": {
     "slide_type": "slide"
    }
   },
   "source": [
    "Finally, create new nifti with same array if intensities but with new qform header after translation with NIFTI1Image with new "
   ]
  },
  {
   "cell_type": "code",
   "execution_count": null,
   "metadata": {
    "slideshow": {
     "slide_type": "fragment"
    }
   },
   "outputs": [],
   "source": [
    "header_info = nii_file.header\n",
    "vox_data = np.array(nii_file.get_fdata())\n",
    "transformed_nii = nib.Nifti1Image(vox_data, transformed)"
   ]
  },
  {
   "cell_type": "code",
   "execution_count": null,
   "metadata": {
    "slideshow": {
     "slide_type": "fragment"
    }
   },
   "outputs": [],
   "source": [
    "tranfsorm_image = nilearn.plotting.plot_anat(transformed_nii,\n",
    "                           title='Space displacement', annotate=True)\n",
    "tranfsorm_image.add_overlay(nii_file, alpha=0.5)"
   ]
  },
  {
   "cell_type": "code",
   "execution_count": null,
   "metadata": {
    "slideshow": {
     "slide_type": "fragment"
    }
   },
   "outputs": [],
   "source": [
    "transform_image = nilearn.plotting.plot_anat(transformed_nii,\n",
    "                           title='Space displacement', annotate=True)\n",
    "transform_image.add_overlay(nii_file,threshold=0.8e3, colorbar=True)"
   ]
  },
  {
   "cell_type": "markdown",
   "metadata": {
    "slideshow": {
     "slide_type": "slide"
    }
   },
   "source": [
    "Try: How about rotation?"
   ]
  },
  {
   "cell_type": "code",
   "execution_count": null,
   "metadata": {
    "slideshow": {
     "slide_type": "fragment"
    }
   },
   "outputs": [],
   "source": [
    "cos_gamma = np.cos(0.3)\n",
    "sin_gamma = np.sin(0.3)\n",
    "rotation_affine = np.array([[1, 0, 0, 0],\n",
    "                            [0, cos_gamma, -sin_gamma, 0],\n",
    "                            [0, sin_gamma, cos_gamma, 0],\n",
    "                            [0, 0, 0, 1]])"
   ]
  },
  {
   "cell_type": "code",
   "execution_count": null,
   "metadata": {},
   "outputs": [],
   "source": [
    "rotation_affine"
   ]
  },
  {
   "cell_type": "code",
   "execution_count": null,
   "metadata": {},
   "outputs": [],
   "source": [
    "after_rot = image.resample_img(nii_file, \n",
    "                               target_affine=rotation_affine.dot(nii_file.affine),\n",
    "                               target_shape=nii_file.shape,\n",
    "                               interpolation='continuous')"
   ]
  },
  {
   "cell_type": "code",
   "execution_count": null,
   "metadata": {},
   "outputs": [],
   "source": [
    "chimera = nib.Nifti1Image(after_rot.get_data(), nii_file.affine)\n",
    "tranfsorm_image = nilearn.plotting.plot_anat(nii_file,\n",
    "                           title='Rotation', annotate=True)\n",
    "tranfsorm_image.add_overlay(chimera, alpha=0.5)"
   ]
  },
  {
   "cell_type": "code",
   "execution_count": null,
   "metadata": {},
   "outputs": [],
   "source": [
    "after_rot.shape == nii_file.shape"
   ]
  },
  {
   "cell_type": "markdown",
   "metadata": {
    "slideshow": {
     "slide_type": "slide"
    }
   },
   "source": [
    "####  Spatial Normalization Methods"
   ]
  },
  {
   "cell_type": "markdown",
   "metadata": {
    "slideshow": {
     "slide_type": "fragment"
    }
   },
   "source": [
    "All brains are different. The brain size of two subject can differ in size by up to 30%. \\\n",
    "There may also be substantial variation in the shapes of the brain. \\\n",
    "Normalization allows one to stretch, squeeze and warp each brain so that it is the same as some standard brain. \\\n",
    "Pros/cons:\n",
    "+ results can be generalized to larger population;\n",
    "+ results can be compared across studies;\n",
    "+ results can be averaged across subjects;\n",
    "\n",
    "- - potential errors (always make visual control of results);\n",
    "- - reduces spatial resolution"
   ]
  },
  {
   "cell_type": "code",
   "execution_count": null,
   "metadata": {
    "slideshow": {
     "slide_type": "subslide"
    }
   },
   "outputs": [],
   "source": [
    "Image(filename = \"/workspace/assets/normalization.png\", width=400, height=100)"
   ]
  },
  {
   "cell_type": "markdown",
   "metadata": {
    "slideshow": {
     "slide_type": "slide"
    }
   },
   "source": [
    "#### ANTs Registration"
   ]
  },
  {
   "cell_type": "markdown",
   "metadata": {
    "slideshow": {
     "slide_type": "subslide"
    }
   },
   "source": [
    "Volume-based registration method, often used for corregistration between series. \\\n",
    "\n",
    "https://nipype.readthedocs.io/en/1.1.7/interfaces/generated/interfaces.ants/registration.html \\\n",
    "https://github.com/ANTsX/ANTs/wiki/Anatomy-of-an-antsRegistration-call"
   ]
  },
  {
   "cell_type": "code",
   "execution_count": null,
   "metadata": {
    "scrolled": true,
    "slideshow": {
     "slide_type": "fragment"
    }
   },
   "outputs": [],
   "source": [
    "from nipype.interfaces.ants import RegistrationSynQuick\n",
    "reg = RegistrationSynQuick()\n",
    "reg.inputs.fixed_image = '/workspace/data/mni_icbm152_t1_tal_nlin_sym_09a.nii'\n",
    "reg.inputs.moving_image = '/workspace/data/raw/100206/unprocessed/3T/T1w_MPR1/100206_3T_T1w_MPR1.nii.gz'\n",
    "reg.inputs.output_prefix = 'subject_name'\n",
    "print(reg.cmdline)\n",
    "reg.run()\n"
   ]
  },
  {
   "cell_type": "markdown",
   "metadata": {
    "slideshow": {
     "slide_type": "slide"
    }
   },
   "source": [
    "#### ANTs initialize + ANTs transform"
   ]
  },
  {
   "cell_type": "markdown",
   "metadata": {
    "slideshow": {
     "slide_type": "fragment"
    }
   },
   "source": [
    "Next methods of ants compute optimal transformation and produces ./mat transformation matrix, then calling registation() to apply it."
   ]
  },
  {
   "cell_type": "markdown",
   "metadata": {
    "slideshow": {
     "slide_type": "slide"
    }
   },
   "source": [
    "ANTs initialize affine between two spaces and outputs transformation matrix\n",
    "ANTs Transform takes affine matrix and output target space image"
   ]
  },
  {
   "cell_type": "code",
   "execution_count": null,
   "metadata": {
    "scrolled": true,
    "slideshow": {
     "slide_type": "fragment"
    }
   },
   "outputs": [],
   "source": [
    "from nipype.interfaces.ants import AffineInitializer\n",
    "init = AffineInitializer()\n",
    "init.inputs.fixed_image = '/workspace/data/mni_icbm152_t1_tal_nlin_sym_09a.nii'\n",
    "init.inputs.moving_image = '/workspace/data/raw/100206/unprocessed/3T/T1w_MPR1/100206_3T_T1w_MPR1.nii.gz'\n",
    "init.inputs.out_file = '/workspace/data/transfm.mat'\n",
    "print(init.cmdline)\n",
    "init.run()\n"
   ]
  },
  {
   "cell_type": "markdown",
   "metadata": {
    "slideshow": {
     "slide_type": "slide"
    }
   },
   "source": [
    "Apply a transform list to map an image from one domain to another."
   ]
  },
  {
   "cell_type": "code",
   "execution_count": null,
   "metadata": {
    "slideshow": {
     "slide_type": "fragment"
    }
   },
   "outputs": [],
   "source": [
    "from nipype.interfaces.ants import ApplyTransforms\n",
    "at = ApplyTransforms()\n",
    "at.inputs.input_image = '/workspace/data/raw/100206/unprocessed/3T/T1w_MPR1/100206_3T_T1w_MPR1.nii.gz'\n",
    "at.inputs.reference_image = '/workspace/data/mni_icbm152_t1_tal_nlin_sym_09a.nii'\n",
    "at.inputs.transforms = '/workspace/data/transfm.mat'\n",
    "at.inputs.output_image = './sub-100206_MNI159_space.nii.gz'\n",
    "at.inputs.interpolation = 'Linear'\n",
    "print(at.cmdline)\n",
    "at.run()\n"
   ]
  },
  {
   "cell_type": "markdown",
   "metadata": {
    "slideshow": {
     "slide_type": "slide"
    }
   },
   "source": [
    "Compare shape and orientation done by two methods"
   ]
  },
  {
   "cell_type": "code",
   "execution_count": null,
   "metadata": {
    "slideshow": {
     "slide_type": "fragment"
    }
   },
   "outputs": [],
   "source": [
    "nii_file_mni152_antsreg = nib.load('./sub-100206_MNI159_space.nii.gz')\n",
    "nii_file_mni152_antstransform = nib.load('./subject_nameWarped.nii.gz')\n",
    "print(\"\"\"Orientation comparison after transform:\n",
    "- T1 native after transform:\\n {0}\n",
    "- MNI Space template:\\n {1}\n",
    "- T1 native after transform with affine: \\n {2}\n",
    "\"\"\".format(nii_file_mni152_antsreg.affine, mni_space_template.affine, nii_file_mni152_antstransform.affine))\n"
   ]
  },
  {
   "cell_type": "code",
   "execution_count": null,
   "metadata": {
    "slideshow": {
     "slide_type": "slide"
    }
   },
   "outputs": [],
   "source": [
    "print(\"\"\"Shape comparison after transform:\n",
    "- T1 native after transform:\\n {0}\n",
    "- MNI Space template brain:\\n {1}\n",
    "- T1 native after transform with antstransform: \\n {2}\n",
    "\"\"\".format(nii_file_mni152_antsreg.shape, mni_space_template.shape, nii_file_mni152_antstransform.shape))\n"
   ]
  },
  {
   "cell_type": "markdown",
   "metadata": {
    "slideshow": {
     "slide_type": "slide"
    }
   },
   "source": [
    "T1w and template alignment"
   ]
  },
  {
   "cell_type": "code",
   "execution_count": null,
   "metadata": {
    "slideshow": {
     "slide_type": "fragment"
    }
   },
   "outputs": [],
   "source": [
    "antstransform_result = nilearn.plotting.plot_anat(nii_file_mni152_antsreg)\n",
    "antstransform_result.add_contours(mni_space_template, threshold=70, title='Nifti MNI152 Space')\n"
   ]
  },
  {
   "cell_type": "code",
   "execution_count": null,
   "metadata": {
    "slideshow": {
     "slide_type": "subslide"
    }
   },
   "outputs": [],
   "source": [
    "import nilearn\n",
    "from nilearn import plotting\n",
    "\n",
    "nilearn.plotting.view_img(nii_file, bg_img=mni_space_template, threshold='auto')"
   ]
  },
  {
   "cell_type": "markdown",
   "metadata": {
    "slideshow": {
     "slide_type": "subslide"
    }
   },
   "source": [
    "Tips:\n",
    "1) Run a bias correction before antsRegistration (i.e. N4). It helps getting better registration. \\\n",
    "2) Remove the skull before antsRegistration. If you have two brain-only images, you can be sure that surrounding tissues (i.e. the skull) will not take a toll on the registration accuracy. If you are using these skull-stripped versions, you can avoid using the mask, because you want the registration to use the \"edge\" features. If you use a mask, anything out of the mask will not be considered, the algorithm will try to match what's inside the brain, but not the edge of the brain itself (see Nick's explanation here). \\\n",
    "3) Never register a lesioned brain with a healthy brain without a proper mask. The algorithm will just pull the remaining parts of the lesioned brain to fill \"the gap\". Despite initial statements that you can register lesioned brains without the need to mask out the lesion, there is evidence showing that results without lesion masking are sub-optimal. If you really don't have the lesion mask, even a coarse and imprecise drawing of lesions helps (see Andersen 2010). \\\n",
    "4) Don't forget to read the parts of the manual (https://github.com/ANTsX/ANTs/wiki/Anatomy-of-an-antsRegistration-call) related to registration."
   ]
  },
  {
   "cell_type": "markdown",
   "metadata": {
    "slideshow": {
     "slide_type": "slide"
    }
   },
   "source": [
    "#### File formats convertation - volume-to-volume"
   ]
  },
  {
   "cell_type": "markdown",
   "metadata": {
    "slideshow": {
     "slide_type": "fragment"
    }
   },
   "source": [
    "You can convert file from preprocessing freesurfer to mni and t1 spaces, using antsTransform with fresurfer native command: *mri_convert*"
   ]
  },
  {
   "cell_type": "code",
   "execution_count": null,
   "metadata": {
    "slideshow": {
     "slide_type": "fragment"
    }
   },
   "outputs": [],
   "source": [
    "!mri_convert --in_type mgz --out_type nii --out_orientation RAS \\\n",
    "            /workspace/data/freesurfer_preproc/100206/mri/T1.mgz \\\n",
    "            /workspace/T1_fs_preprocessed.nii"
   ]
  },
  {
   "cell_type": "code",
   "execution_count": null,
   "metadata": {
    "slideshow": {
     "slide_type": "subslide"
    }
   },
   "outputs": [],
   "source": [
    "freesurfer_t1 = nib.load('./T1_fs_preprocessed.nii')"
   ]
  },
  {
   "cell_type": "code",
   "execution_count": null,
   "metadata": {
    "slideshow": {
     "slide_type": "subslide"
    }
   },
   "outputs": [],
   "source": [
    "freesurfer_t1.shape\n",
    "freesurfer_t1.affine"
   ]
  },
  {
   "cell_type": "code",
   "execution_count": null,
   "metadata": {
    "slideshow": {
     "slide_type": "subslide"
    }
   },
   "outputs": [],
   "source": [
    "freesurfer_plot = nilearn.plotting.plot_anat(freesurfer_t1)\n",
    "freesurfer_plot.add_contours(mni_space_template)"
   ]
  },
  {
   "cell_type": "code",
   "execution_count": null,
   "metadata": {
    "slideshow": {
     "slide_type": "subslide"
    }
   },
   "outputs": [],
   "source": [
    "import os\n",
    "#  Implement ANTs registration to allign mni and freesurfer template\n",
    "\n",
    "#  PUT YOUR CODE HERE\n",
    "\n",
    "reg = RegistrationSynQuick()\n",
    "reg.inputs.moving_image = os.path.abspath('./T1_fs_preprocessed.nii')\n",
    "reg.inputs.fixed_image = os.path.abspath('...')\n",
    "..."
   ]
  }
 ],
 "metadata": {
  "celltoolbar": "Slideshow",
  "kernelspec": {
   "display_name": "Python 3 (ipykernel)",
   "language": "python",
   "name": "python3"
  },
  "language_info": {
   "codemirror_mode": {
    "name": "ipython",
    "version": 3
   },
   "file_extension": ".py",
   "mimetype": "text/x-python",
   "name": "python",
   "nbconvert_exporter": "python",
   "pygments_lexer": "ipython3",
   "version": "3.10.6"
  }
 },
 "nbformat": 4,
 "nbformat_minor": 4
}
